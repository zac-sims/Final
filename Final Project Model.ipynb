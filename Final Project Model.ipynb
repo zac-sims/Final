{
 "cells": [
  {
   "cell_type": "markdown",
   "metadata": {},
   "source": [
    "# Part 2: Modelling "
   ]
  },
  {
   "cell_type": "code",
   "execution_count": 275,
   "metadata": {},
   "outputs": [
    {
     "name": "stdout",
     "output_type": "stream",
     "text": [
      "Already up-to-date.\n"
     ]
    }
   ],
   "source": [
    "import os\n",
    "home_path =  os.path.expanduser('~')\n",
    "os.chdir(home_path + '\\Documents\\Github\\datascience_1')\n",
    "!git pull"
   ]
  },
  {
   "cell_type": "code",
   "execution_count": 276,
   "metadata": {},
   "outputs": [
    {
     "name": "stdout",
     "output_type": "stream",
     "text": [
      "accuracy\t build_pred\t build_tree_iter\t caser\t closest_centroid\t compute_mean\t compute_prediction\t compute_training\t euclidean_distance\t \n",
      "f1\t find_best_splitter\t forest_builder\t generate_table\t get_oob_table\t gig\t gini\t informedness\t initialize_centroids\t \n",
      "k_fold\t k_fold_random\t k_means\t multi_find_best_splitter\t multi_gig\t multi_gini\t new_seed\t oob_vote_taker\t phase_1\t \n",
      "phase_2\t pitch_build_tree_iter\t pitch_compute_prediction\t pred_accuracy\t predictor_case\t probabilities\t row_to_vect\t seeder\t tree_predictor\t \n",
      "unanimous_rows\t vote_taker\t \n"
     ]
    }
   ],
   "source": [
    "import sys\n",
    "sys.path.append(home_path + '\\Documents\\Github\\datascience_1')\n",
    "from week7 import *\n",
    "%who function"
   ]
  },
  {
   "cell_type": "code",
   "execution_count": 4,
   "metadata": {},
   "outputs": [],
   "source": [
    "import pandas as pd\n",
    "pd.set_option('display.max_columns', None)\n",
    "pitcher = pd.read_csv('~\\Documents\\CS\\CIS399\\greinke_part1_done.csv') "
   ]
  },
  {
   "cell_type": "markdown",
   "metadata": {},
   "source": [
    "# Drop unused columns"
   ]
  },
  {
   "cell_type": "markdown",
   "metadata": {},
   "source": [
    "These are the columns for K-means, which will not be included in the decision tree process."
   ]
  },
  {
   "cell_type": "code",
   "execution_count": 5,
   "metadata": {},
   "outputs": [],
   "source": [
    "pitcher = pitcher.drop(['pitch_CHkmeans','pitch_SLkmeans','pitch_FFkmeans','pitch_FTkmeans','pitch_FBkmeans','pitch_CUkmeans'],axis=1)"
   ]
  },
  {
   "cell_type": "markdown",
   "metadata": {},
   "source": [
    "# Modfiy Functions for Multinomial Response"
   ]
  },
  {
   "cell_type": "markdown",
   "metadata": {},
   "source": [
    "The function that was originally used to compute the prediction for a give path of the decision tree only gave binomial responses, whereas for my use I will need four response variables. I modified the prediciton function below and added this helper function to the main function to build the decision tree and the function to create a random forest."
   ]
  },
  {
   "cell_type": "code",
   "execution_count": 6,
   "metadata": {},
   "outputs": [],
   "source": [
    "def pitch_compute_prediction(table, target):\n",
    "    counts = [sum(table['pitch'] == 0),sum(table['pitch'] == 1),sum(table['pitch'] == 2),sum(table['pitch'] == 3)]\n",
    "    max_val = max(counts)\n",
    "    if max_val == 0:\n",
    "        raise LookupError('Prediction impossible - Empty tree on leaf')\n",
    "    for i in range(len(counts)):\n",
    "        if counts[i] == max_val:\n",
    "            return i\n",
    "        else:\n",
    "            continue\n",
    "  "
   ]
  },
  {
   "cell_type": "code",
   "execution_count": 285,
   "metadata": {},
   "outputs": [],
   "source": [
    "def multi_probabilities(counts):\n",
    "    count_0 = 0 if 0 not in counts else counts[0]  #could have no 0 values\n",
    "    count_1 = 0 if 1 not in counts else counts[1]\n",
    "    count_2 = 0 if 2 not in counts else counts[2]\n",
    "    count_3 = 0 if 3 not in counts else counts[3]\n",
    "    total = count_0 + count_1 + count_2 + count_3\n",
    "    probs = (0,0,0,0) if total == 0 else (1.0*count_0/total, 1.0*count_1/total,1.0*count_2/total,1*0*count_3/total)  #build 2-tuple\n",
    "    return probs"
   ]
  },
  {
   "cell_type": "code",
   "execution_count": 286,
   "metadata": {},
   "outputs": [],
   "source": [
    "def multi_gini(counts):\n",
    "    (p0,p1,p2,p3) = probabilities(counts)\n",
    "    sum_probs = p0**2 + p1**2 + p2**2 + p3**2\n",
    "    gini = 1 - sum_probs\n",
    "    return gini"
   ]
  },
  {
   "cell_type": "code",
   "execution_count": 291,
   "metadata": {},
   "outputs": [],
   "source": [
    "def gig(starting_table, split_column, target_column):\n",
    "    \n",
    "\n",
    "    true_table = starting_table.loc[starting_table[split_column] == 1]\n",
    "    false_table = starting_table.loc[starting_table[split_column] == 0]\n",
    "    \n",
    "\n",
    "    true_counts = true_table[target_column].value_counts()\n",
    "    false_counts = false_table[target_column].value_counts()  \n",
    "    starting_counts = starting_table[target_column].value_counts() \n",
    "    \n",
    "    starting_gini = multi_gini(starting_counts)\n",
    "    true_gini = multi_gini(true_counts)\n",
    "    false_gini = multi_gini(false_counts)\n",
    "\n",
    "\n",
    "    starting_size = len(starting_table.index)*1.0\n",
    "    true_weight = 0.0 if starting_size == 0 else len(true_table.index)/starting_size\n",
    "    false_weight = 0.0 if starting_size == 0 else len(false_table.index)/starting_size\n",
    "    \n",
    "\n",
    "    gig = starting_gini - (true_weight * true_gini + false_weight * false_gini)\n",
    "    \n",
    "    return gig\n",
    "    "
   ]
  },
  {
   "cell_type": "code",
   "execution_count": 292,
   "metadata": {},
   "outputs": [],
   "source": [
    "def pitch_build_tree_iter(table, choices, target, hypers={} ):\n",
    "\n",
    "    k = hypers['max-depth'] if 'max-depth' in hypers else min(4, len(choices))\n",
    "    gig_cutoff = hypers['gig-cutoff'] if 'gig-cutoff' in hypers else 0.0\n",
    "    \n",
    "    def iterative_build(k):\n",
    "        columns_sorted = find_best_splitter(table, choices, target)\n",
    "        (best_column, gig_value) = columns_sorted[0]\n",
    "        \n",
    "        #Note I add _1 or _0 to make it more readable for debugging\n",
    "        current_paths = [{'conjunction': [(best_column+'_1', build_pred(best_column, 1))],\n",
    "                          'prediction': None,\n",
    "                          'gig_score': gig_value},\n",
    "                         {'conjunction': [(best_column+'_0', build_pred(best_column, 0))],\n",
    "                          'prediction': None,\n",
    "                          'gig_score': gig_value}\n",
    "                        ]\n",
    "        k -= 1  # we just built a level as seed so subtract 1 from k\n",
    "        tree_paths = []  # add completed paths here\n",
    "        \n",
    "        while k>0:\n",
    "            new_paths = []\n",
    "            for path in current_paths:\n",
    "                conjunct = path['conjunction']  # a list of (name, lambda)\n",
    "                before_table = generate_table(table, conjunct)  #the subtable the current conjunct leads to\n",
    "                columns_sorted = find_best_splitter(before_table, choices, target)\n",
    "                (best_column, gig_value) = columns_sorted[0]\n",
    "                if gig_value > gig_cutoff:\n",
    "                    new_path_1 = {'conjunction': conjunct + [(best_column+'_1', build_pred(best_column, 1))],\n",
    "                                'prediction': None,\n",
    "                                 'gig_score': gig_value}\n",
    "                    new_paths.append( new_path_1 ) #true\n",
    "                    new_path_0 = {'conjunction': conjunct + [(best_column+'_0', build_pred(best_column, 0))],\n",
    "                                'prediction': None,\n",
    "                                 'gig_score': gig_value}\n",
    "                    new_paths.append( new_path_0 ) #false\n",
    "                else:\n",
    "                    #not worth splitting so complete the path with a prediction\n",
    "                    path['prediction'] = pitch_compute_prediction(before_table, target)\n",
    "                    tree_paths.append(path)\n",
    "            #end for loop\n",
    "            \n",
    "            current_paths = new_paths\n",
    "            if current_paths != []:\n",
    "                k -= 1\n",
    "            else:\n",
    "                break  # nothing left to extend so have copied all paths to tree_paths\n",
    "        #end while loop\n",
    "\n",
    "        #Generate predictions for all paths that have None\n",
    "        for path in current_paths:\n",
    "            conjunct = path['conjunction']\n",
    "            before_table = generate_table(table, conjunct)\n",
    "            path['prediction'] = pitch_compute_prediction(before_table, target)\n",
    "            tree_paths.append(path)\n",
    "        return tree_paths\n",
    "\n",
    "    return {'paths': iterative_build(k), 'weight': None}"
   ]
  },
  {
   "cell_type": "code",
   "execution_count": 293,
   "metadata": {},
   "outputs": [],
   "source": [
    "import random\n",
    "random.seed(1000)\n",
    "new_seed = seeder(100)\n",
    "def forest_builder(table, column_choices, target, hypers):\n",
    "    tree_n = 5 if 'total-trees' not in hypers else hypers['total-trees']\n",
    "    m = int(len(column_choices)**.5) if 'm' not in hypers else hypers['m']\n",
    "    k = hypers['max-depth'] if 'max-depth' in hypers else min(2, len(column_choices))\n",
    "    gig_cutoff = hypers['gig-cutoff'] if 'gig-cutoff' in hypers else 0.0\n",
    "\n",
    "    #build a single tree - call it multiple times to build multiple trees\n",
    "    def iterative_build(k):\n",
    "        train = table.sample(frac=1.0, replace=True, random_state=new_seed())\n",
    "        train = train.reset_index()\n",
    "        left_out = table.loc[~table.index.isin(train['index'])]\n",
    "        left_out = left_out.reset_index() # this gives us the old index in its own column\n",
    "        oob_list = left_out['index'].tolist()  # list of row indices from original table\n",
    "        \n",
    "        rcols = random.sample(column_choices, m)  # subspcace sampling\n",
    "        columns_sorted = find_best_splitter(train, rcols, target)\n",
    "        (best_column, gig_value) = columns_sorted[0]\n",
    "\n",
    "        #Note I add _1 or _0 to make it more readable for debugging\n",
    "        current_paths = [{'conjunction': [(best_column+'_1', build_pred(best_column, 1))],\n",
    "                          'prediction': None,\n",
    "                          'gig_score': gig_value},\n",
    "                         {'conjunction': [(best_column+'_0', build_pred(best_column, 0))],\n",
    "                          'prediction': None,\n",
    "                          'gig_score': gig_value}\n",
    "                        ]\n",
    "        k -= 1  # we just built a level as seed so subtract 1 from k\n",
    "        tree_paths = []  # add completed paths here\n",
    "\n",
    "        while k>0:\n",
    "            new_paths = []\n",
    "            for path in current_paths:\n",
    "                conjunct = path['conjunction']  # a list of (name, lambda)\n",
    "                before_table = generate_table(train, conjunct)  #the subtable the current conjunct leads to\n",
    "                rcols = random.sample(column_choices, m)  # subspace\n",
    "                columns_sorted = find_best_splitter(before_table, rcols, target)\n",
    "                (best_column, gig_value) = columns_sorted[0]\n",
    "                if gig_value > gig_cutoff:\n",
    "                    new_path_1 = {'conjunction': conjunct + [(best_column+'_1', build_pred(best_column, 1))],\n",
    "                                'prediction': None,\n",
    "                                 'gig_score': gig_value}\n",
    "                    new_paths.append( new_path_1 ) #true\n",
    "                    new_path_0 = {'conjunction': conjunct + [(best_column+'_0', build_pred(best_column, 0))],\n",
    "                                'prediction': None,\n",
    "                                 'gig_score': gig_value\n",
    "                                 }\n",
    "                    new_paths.append( new_path_0 ) #false\n",
    "                else:\n",
    "                    #not worth splitting so complete the path with a prediction\n",
    "                    path['prediction'] = pitch_compute_prediction(before_table, target)\n",
    "                    tree_paths.append(path)\n",
    "            #end for loop\n",
    "\n",
    "            current_paths = new_paths\n",
    "            if current_paths != []:\n",
    "                k -= 1\n",
    "            else:\n",
    "                break  # nothing left to extend so have copied all paths to tree_paths\n",
    "        #end while loop\n",
    "\n",
    "        #Generate predictions for all paths that have None\n",
    "        for path in current_paths:\n",
    "            conjunct = path['conjunction']\n",
    "            before_table = generate_table(train, conjunct)\n",
    "            path['prediction'] = pitch_compute_prediction(before_table, target)\n",
    "            tree_paths.append(path)\n",
    "        return (tree_paths, oob_list)\n",
    "    \n",
    "    #let's build the forest\n",
    "    forest = []\n",
    "    for i in range(tree_n):\n",
    "        (paths, oob) = iterative_build(k)\n",
    "        forest.append({'paths': paths, 'weight': None, 'oob': oob})\n",
    "        \n",
    "    return forest"
   ]
  },
  {
   "cell_type": "markdown",
   "metadata": {},
   "source": [
    "# Functions for Accuracy Assesment"
   ]
  },
  {
   "cell_type": "markdown",
   "metadata": {},
   "source": [
    "For the decision tree, k-fold cross validation will be used to test the accuracy of the different models. For the random forest, I will use out-of-bag error testing."
   ]
  },
  {
   "cell_type": "code",
   "execution_count": 9,
   "metadata": {},
   "outputs": [],
   "source": [
    "def k_fold(table, k, target, hypers, candidate_columns):\n",
    "    name = []\n",
    "    acc = []\n",
    "    \n",
    "    total_len = len(table.index)\n",
    "    slice_size = int(total_len/(1.0*k))\n",
    "    slices = []\n",
    "\n",
    "    #generate the slices\n",
    "    for i in range(k-1):\n",
    "        a_slice =  table[i*slice_size:(i+1)*slice_size]\n",
    "        slices.append( a_slice )\n",
    "    slices.append( table[(k-1)*slice_size:] )  # whatever is left\n",
    "    \n",
    "    #generate test results\n",
    "    for i in range(k):\n",
    "        test_table = slices[i]\n",
    "        train_table = compute_training(slices, i)\n",
    "        fold_tree = build_tree_iter(train_table, candidate_columns, target, hypers)  # train\n",
    "        train_table['fold_tree'] = train_table.apply(lambda row: tree_predictor(row,fold_tree),axis=1)\n",
    "        name.append('fold '+str(i+1)+' test')\n",
    "        result = 0\n",
    "        for i in range(len(train_table)):\n",
    "            if train_table['pitch'].iloc[i] == train_table['fold_tree'].iloc[i]:\n",
    "                result += 1\n",
    "        accuracy = float(result)/float(len(train_table))\n",
    "        acc.append(accuracy)\n",
    "    \n",
    "    k_fold_results_table = pd.DataFrame({'accuracy':acc,'name':name}) \n",
    "    k_fold_results_table.__doc__ = str(hypers)  # adds comment to remind me of hyper params used\n",
    "    return k_fold_results_table"
   ]
  },
  {
   "cell_type": "code",
   "execution_count": 10,
   "metadata": {},
   "outputs": [],
   "source": [
    "import random\n",
    "\n",
    "#k_fold_random calls k_fold after randomly shuffling the table rows\n",
    "def k_fold_random(table, k, target, hypers, candidate_columns):\n",
    "    index_seq = range(0,len(table))\n",
    "    random.shuffle(index_seq)\n",
    "    rand_table = pd.DataFrame(columns=table.columns)\n",
    "    for i in range(0,len(table)):\n",
    "        rand_table = rand_table.append(table.iloc[index_seq[i]])  \n",
    "    return k_fold(rand_table, k, target, hypers, candidate_columns)"
   ]
  },
  {
   "cell_type": "code",
   "execution_count": 11,
   "metadata": {},
   "outputs": [],
   "source": [
    "#Function to get out of bounds table\n",
    "import numpy as np\n",
    "def get_oob_table(forest,table):\n",
    "    oob_list = []\n",
    "    for i in range(len(forest)):\n",
    "        oob_list.extend(forest[i]['oob'])\n",
    "    oob_list = np.array(oob_list)\n",
    "    oob_table = table.loc[np.unique(oob_list)]\n",
    "    return oob_table"
   ]
  },
  {
   "cell_type": "code",
   "execution_count": 12,
   "metadata": {},
   "outputs": [],
   "source": [
    "#function to take votes from the columns that were in the oob table \n",
    "def oob_vote_taker(row, forest):\n",
    "    votes = {0:0, 1:0,2:0,3:0}\n",
    "    for tree in forest:\n",
    "        if row.name in tree['oob']:\n",
    "            prediction = tree_predictor(row, tree)\n",
    "            votes[prediction] += 1\n",
    "    winner = 1 if votes[1]>votes[0] else 0  #ties go to 0\n",
    "    return winner"
   ]
  },
  {
   "cell_type": "code",
   "execution_count": 13,
   "metadata": {},
   "outputs": [],
   "source": [
    "#function to estimate accuracy for each prediciton \n",
    "def pred_accuracy(tree,table):\n",
    "    result = 0\n",
    "    for i in range(len(table)):\n",
    "        if table['pitch'].iloc[i] == table[tree].iloc[i]:\n",
    "            result += 1\n",
    "    return float(result)/float(len(table))"
   ]
  },
  {
   "cell_type": "markdown",
   "metadata": {},
   "source": [
    "# Modelling"
   ]
  },
  {
   "cell_type": "markdown",
   "metadata": {},
   "source": [
    "I will start by building decision trees of different depths and seeing how accurate they are."
   ]
  },
  {
   "cell_type": "code",
   "execution_count": 16,
   "metadata": {},
   "outputs": [],
   "source": [
    "features = ['prior_ball','prior_foul_bunt','prior_foul_tip','prior_hit_by_pitch','prior_hit_into_play',\n",
    "            'prior_hit_into_play_no_out', 'prior_hit_into_play_score','prior_intent_ball', 'prior_missed_bunt',\n",
    "            'prior_swinging_strike','prior_swinging_strike_blocked',\n",
    "            'pk_coors',\n",
    "            'on_3b','on_2b','on_1b',\n",
    "            'outs_0','outs_1','outs_2',\n",
    "            'stand_L','stand_R',\n",
    "            'strike_0','strike_1','strike_2',\n",
    "            'ball_0','ball_1','ball_2','ball_3',\n",
    "            'times_faced_0','times_faced_1','times_faced_2','times_faced_3',\n",
    "            'pcount_1','pcount_2','pcount_3','pcount_4','pcount_5','pcount_6','pcount_7','pcount_8','pcount_9','pcount_10',\n",
    "            'pcount_11','pcount_12','pcount_13']"
   ]
  },
  {
   "cell_type": "markdown",
   "metadata": {},
   "source": [
    "First I will build a tree that is a stump."
   ]
  },
  {
   "cell_type": "code",
   "execution_count": 294,
   "metadata": {
    "scrolled": false
   },
   "outputs": [],
   "source": [
    "tree1 = pitch_build_tree_iter(pitcher,features,'pitch',{'max-depth':1,'gig_cutoff':0.0})"
   ]
  },
  {
   "cell_type": "code",
   "execution_count": 295,
   "metadata": {
    "scrolled": true
   },
   "outputs": [
    {
     "data": {
      "text/plain": [
       "{'paths': [{'conjunction': [('stand_L_1', <function week4.<lambda>>)],\n",
       "   'gig_score': 0.007003265294752814,\n",
       "   'prediction': 0},\n",
       "  {'conjunction': [('stand_L_0', <function week4.<lambda>>)],\n",
       "   'gig_score': 0.007003265294752814,\n",
       "   'prediction': 0}],\n",
       " 'weight': None}"
      ]
     },
     "execution_count": 295,
     "metadata": {},
     "output_type": "execute_result"
    }
   ],
   "source": [
    "tree1"
   ]
  },
  {
   "cell_type": "markdown",
   "metadata": {},
   "source": [
    "The tree picks 'stand_L' as the best splitter. This is a pretty good sign. Batter stance has a huge impact on pitch selection."
   ]
  },
  {
   "cell_type": "code",
   "execution_count": 296,
   "metadata": {
    "scrolled": true
   },
   "outputs": [
    {
     "data": {
      "text/plain": [
       "[{'conjunction': [('stand_L_1', <function week4.<lambda>>)],\n",
       "  'gig_score': 0.007003265294752814,\n",
       "  'prediction': 0},\n",
       " {'conjunction': [('stand_L_0', <function week4.<lambda>>)],\n",
       "  'gig_score': 0.007003265294752814,\n",
       "  'prediction': 0}]"
      ]
     },
     "execution_count": 296,
     "metadata": {},
     "output_type": "execute_result"
    }
   ],
   "source": [
    "tree1['paths']"
   ]
  },
  {
   "cell_type": "code",
   "execution_count": 297,
   "metadata": {
    "scrolled": true
   },
   "outputs": [],
   "source": [
    "pitcher['tree_1'] = pitcher.apply(lambda row: tree_predictor(row,tree1),axis=1)"
   ]
  },
  {
   "cell_type": "markdown",
   "metadata": {},
   "source": [
    "The tree is predicting fastball everytime. Not good."
   ]
  },
  {
   "cell_type": "code",
   "execution_count": 298,
   "metadata": {},
   "outputs": [
    {
     "data": {
      "text/plain": [
       "0.5072480053938645"
      ]
     },
     "execution_count": 298,
     "metadata": {},
     "output_type": "execute_result"
    }
   ],
   "source": [
    "pred_accuracy('tree_1',pitcher)"
   ]
  },
  {
   "cell_type": "code",
   "execution_count": 126,
   "metadata": {},
   "outputs": [
    {
     "data": {
      "text/plain": [
       "0    8899\n",
       "Name: tree_1, dtype: int64"
      ]
     },
     "execution_count": 126,
     "metadata": {},
     "output_type": "execute_result"
    }
   ],
   "source": [
    "pitcher['tree_1'].value_counts()"
   ]
  },
  {
   "cell_type": "markdown",
   "metadata": {},
   "source": [
    "Now I will try a max depth of 5"
   ]
  },
  {
   "cell_type": "code",
   "execution_count": 299,
   "metadata": {},
   "outputs": [],
   "source": [
    "tree5 = pitch_build_tree_iter(pitcher,features,'pitch',{'max-depth':5\n",
    "                                                        ,'gig_cutoff':-10.0})\n",
    "pitcher['tree_5'] = pitcher.apply(lambda row: tree_predictor(row,tree5),axis=1)"
   ]
  },
  {
   "cell_type": "markdown",
   "metadata": {},
   "source": [
    "There are now 29 paths."
   ]
  },
  {
   "cell_type": "code",
   "execution_count": 301,
   "metadata": {},
   "outputs": [
    {
     "data": {
      "text/plain": [
       "[{'conjunction': [('stand_L_1', <function week4.<lambda>>),\n",
       "   ('pcount_1_0', <function week4.<lambda>>),\n",
       "   ('pcount_5_1', <function week4.<lambda>>),\n",
       "   ('prior_foul_tip_1', <function week4.<lambda>>)],\n",
       "  'gig_score': 0.007713765997397343,\n",
       "  'prediction': 3},\n",
       " {'conjunction': [('stand_L_0', <function week4.<lambda>>),\n",
       "   ('outs_1_1', <function week4.<lambda>>),\n",
       "   ('pcount_8_1', <function week4.<lambda>>),\n",
       "   ('times_faced_0_1', <function week4.<lambda>>)],\n",
       "  'gig_score': 0.375,\n",
       "  'prediction': 0},\n",
       " {'conjunction': [('stand_L_0', <function week4.<lambda>>),\n",
       "   ('outs_1_1', <function week4.<lambda>>),\n",
       "   ('pcount_8_1', <function week4.<lambda>>),\n",
       "   ('times_faced_0_0', <function week4.<lambda>>)],\n",
       "  'gig_score': 0.375,\n",
       "  'prediction': 1},\n",
       " {'conjunction': [('stand_L_1', <function week4.<lambda>>),\n",
       "   ('pcount_1_1', <function week4.<lambda>>),\n",
       "   ('times_faced_0_1', <function week4.<lambda>>),\n",
       "   ('outs_1_1', <function week4.<lambda>>),\n",
       "   ('prior_hit_into_play_score_1', <function week4.<lambda>>)],\n",
       "  'gig_score': 0.014406887658675538,\n",
       "  'prediction': 0},\n",
       " {'conjunction': [('stand_L_1', <function week4.<lambda>>),\n",
       "   ('pcount_1_1', <function week4.<lambda>>),\n",
       "   ('times_faced_0_1', <function week4.<lambda>>),\n",
       "   ('outs_1_1', <function week4.<lambda>>),\n",
       "   ('prior_hit_into_play_score_0', <function week4.<lambda>>)],\n",
       "  'gig_score': 0.014406887658675538,\n",
       "  'prediction': 0},\n",
       " {'conjunction': [('stand_L_1', <function week4.<lambda>>),\n",
       "   ('pcount_1_1', <function week4.<lambda>>),\n",
       "   ('times_faced_0_1', <function week4.<lambda>>),\n",
       "   ('outs_1_0', <function week4.<lambda>>),\n",
       "   ('prior_hit_into_play_score_1', <function week4.<lambda>>)],\n",
       "  'gig_score': 0.011824242218095443,\n",
       "  'prediction': 0},\n",
       " {'conjunction': [('stand_L_1', <function week4.<lambda>>),\n",
       "   ('pcount_1_1', <function week4.<lambda>>),\n",
       "   ('times_faced_0_1', <function week4.<lambda>>),\n",
       "   ('outs_1_0', <function week4.<lambda>>),\n",
       "   ('prior_hit_into_play_score_0', <function week4.<lambda>>)],\n",
       "  'gig_score': 0.011824242218095443,\n",
       "  'prediction': 0},\n",
       " {'conjunction': [('stand_L_1', <function week4.<lambda>>),\n",
       "   ('pcount_1_1', <function week4.<lambda>>),\n",
       "   ('times_faced_0_0', <function week4.<lambda>>),\n",
       "   ('outs_2_1', <function week4.<lambda>>),\n",
       "   ('prior_swinging_strike_blocked_1', <function week4.<lambda>>)],\n",
       "  'gig_score': 0.015461349642407307,\n",
       "  'prediction': 0},\n",
       " {'conjunction': [('stand_L_1', <function week4.<lambda>>),\n",
       "   ('pcount_1_1', <function week4.<lambda>>),\n",
       "   ('times_faced_0_0', <function week4.<lambda>>),\n",
       "   ('outs_2_1', <function week4.<lambda>>),\n",
       "   ('prior_swinging_strike_blocked_0', <function week4.<lambda>>)],\n",
       "  'gig_score': 0.015461349642407307,\n",
       "  'prediction': 0},\n",
       " {'conjunction': [('stand_L_1', <function week4.<lambda>>),\n",
       "   ('pcount_1_1', <function week4.<lambda>>),\n",
       "   ('times_faced_0_0', <function week4.<lambda>>),\n",
       "   ('outs_2_0', <function week4.<lambda>>),\n",
       "   ('prior_hit_into_play_no_out_1', <function week4.<lambda>>)],\n",
       "  'gig_score': 0.01291268115449895,\n",
       "  'prediction': 2},\n",
       " {'conjunction': [('stand_L_1', <function week4.<lambda>>),\n",
       "   ('pcount_1_1', <function week4.<lambda>>),\n",
       "   ('times_faced_0_0', <function week4.<lambda>>),\n",
       "   ('outs_2_0', <function week4.<lambda>>),\n",
       "   ('prior_hit_into_play_no_out_0', <function week4.<lambda>>)],\n",
       "  'gig_score': 0.01291268115449895,\n",
       "  'prediction': 0},\n",
       " {'conjunction': [('stand_L_1', <function week4.<lambda>>),\n",
       "   ('pcount_1_0', <function week4.<lambda>>),\n",
       "   ('pcount_5_1', <function week4.<lambda>>),\n",
       "   ('prior_foul_tip_0', <function week4.<lambda>>),\n",
       "   ('ball_1_1', <function week4.<lambda>>)],\n",
       "  'gig_score': 0.007266439569943717,\n",
       "  'prediction': 0},\n",
       " {'conjunction': [('stand_L_1', <function week4.<lambda>>),\n",
       "   ('pcount_1_0', <function week4.<lambda>>),\n",
       "   ('pcount_5_1', <function week4.<lambda>>),\n",
       "   ('prior_foul_tip_0', <function week4.<lambda>>),\n",
       "   ('ball_1_0', <function week4.<lambda>>)],\n",
       "  'gig_score': 0.007266439569943717,\n",
       "  'prediction': 0},\n",
       " {'conjunction': [('stand_L_1', <function week4.<lambda>>),\n",
       "   ('pcount_1_0', <function week4.<lambda>>),\n",
       "   ('pcount_5_0', <function week4.<lambda>>),\n",
       "   ('strike_1_1', <function week4.<lambda>>),\n",
       "   ('times_faced_3_1', <function week4.<lambda>>)],\n",
       "  'gig_score': 0.0007135935263496429,\n",
       "  'prediction': 0},\n",
       " {'conjunction': [('stand_L_1', <function week4.<lambda>>),\n",
       "   ('pcount_1_0', <function week4.<lambda>>),\n",
       "   ('pcount_5_0', <function week4.<lambda>>),\n",
       "   ('strike_1_1', <function week4.<lambda>>),\n",
       "   ('times_faced_3_0', <function week4.<lambda>>)],\n",
       "  'gig_score': 0.0007135935263496429,\n",
       "  'prediction': 0},\n",
       " {'conjunction': [('stand_L_1', <function week4.<lambda>>),\n",
       "   ('pcount_1_0', <function week4.<lambda>>),\n",
       "   ('pcount_5_0', <function week4.<lambda>>),\n",
       "   ('strike_1_0', <function week4.<lambda>>),\n",
       "   ('pcount_9_1', <function week4.<lambda>>)],\n",
       "  'gig_score': 0.001401001090145293,\n",
       "  'prediction': 2},\n",
       " {'conjunction': [('stand_L_1', <function week4.<lambda>>),\n",
       "   ('pcount_1_0', <function week4.<lambda>>),\n",
       "   ('pcount_5_0', <function week4.<lambda>>),\n",
       "   ('strike_1_0', <function week4.<lambda>>),\n",
       "   ('pcount_9_0', <function week4.<lambda>>)],\n",
       "  'gig_score': 0.001401001090145293,\n",
       "  'prediction': 0},\n",
       " {'conjunction': [('stand_L_0', <function week4.<lambda>>),\n",
       "   ('outs_1_1', <function week4.<lambda>>),\n",
       "   ('pcount_8_0', <function week4.<lambda>>),\n",
       "   ('times_faced_2_1', <function week4.<lambda>>),\n",
       "   ('pcount_7_1', <function week4.<lambda>>)],\n",
       "  'gig_score': 0.007299968245494337,\n",
       "  'prediction': 1},\n",
       " {'conjunction': [('stand_L_0', <function week4.<lambda>>),\n",
       "   ('outs_1_1', <function week4.<lambda>>),\n",
       "   ('pcount_8_0', <function week4.<lambda>>),\n",
       "   ('times_faced_2_1', <function week4.<lambda>>),\n",
       "   ('pcount_7_0', <function week4.<lambda>>)],\n",
       "  'gig_score': 0.007299968245494337,\n",
       "  'prediction': 0},\n",
       " {'conjunction': [('stand_L_0', <function week4.<lambda>>),\n",
       "   ('outs_1_1', <function week4.<lambda>>),\n",
       "   ('pcount_8_0', <function week4.<lambda>>),\n",
       "   ('times_faced_2_0', <function week4.<lambda>>),\n",
       "   ('prior_swinging_strike_blocked_1', <function week4.<lambda>>)],\n",
       "  'gig_score': 0.0022522975388868938,\n",
       "  'prediction': 0},\n",
       " {'conjunction': [('stand_L_0', <function week4.<lambda>>),\n",
       "   ('outs_1_1', <function week4.<lambda>>),\n",
       "   ('pcount_8_0', <function week4.<lambda>>),\n",
       "   ('times_faced_2_0', <function week4.<lambda>>),\n",
       "   ('prior_swinging_strike_blocked_0', <function week4.<lambda>>)],\n",
       "  'gig_score': 0.0022522975388868938,\n",
       "  'prediction': 0},\n",
       " {'conjunction': [('stand_L_0', <function week4.<lambda>>),\n",
       "   ('outs_1_0', <function week4.<lambda>>),\n",
       "   ('pcount_2_1', <function week4.<lambda>>),\n",
       "   ('outs_0_1', <function week4.<lambda>>),\n",
       "   ('pk_coors_1', <function week4.<lambda>>)],\n",
       "  'gig_score': 0.002352782063302722,\n",
       "  'prediction': 0},\n",
       " {'conjunction': [('stand_L_0', <function week4.<lambda>>),\n",
       "   ('outs_1_0', <function week4.<lambda>>),\n",
       "   ('pcount_2_1', <function week4.<lambda>>),\n",
       "   ('outs_0_1', <function week4.<lambda>>),\n",
       "   ('pk_coors_0', <function week4.<lambda>>)],\n",
       "  'gig_score': 0.002352782063302722,\n",
       "  'prediction': 0},\n",
       " {'conjunction': [('stand_L_0', <function week4.<lambda>>),\n",
       "   ('outs_1_0', <function week4.<lambda>>),\n",
       "   ('pcount_2_1', <function week4.<lambda>>),\n",
       "   ('outs_0_0', <function week4.<lambda>>),\n",
       "   ('prior_swinging_strike_1', <function week4.<lambda>>)],\n",
       "  'gig_score': 0.00515925657982802,\n",
       "  'prediction': 0},\n",
       " {'conjunction': [('stand_L_0', <function week4.<lambda>>),\n",
       "   ('outs_1_0', <function week4.<lambda>>),\n",
       "   ('pcount_2_1', <function week4.<lambda>>),\n",
       "   ('outs_0_0', <function week4.<lambda>>),\n",
       "   ('prior_swinging_strike_0', <function week4.<lambda>>)],\n",
       "  'gig_score': 0.00515925657982802,\n",
       "  'prediction': 0},\n",
       " {'conjunction': [('stand_L_0', <function week4.<lambda>>),\n",
       "   ('outs_1_0', <function week4.<lambda>>),\n",
       "   ('pcount_2_0', <function week4.<lambda>>),\n",
       "   ('ball_3_1', <function week4.<lambda>>),\n",
       "   ('times_faced_0_1', <function week4.<lambda>>)],\n",
       "  'gig_score': 0.008649333379136065,\n",
       "  'prediction': 0},\n",
       " {'conjunction': [('stand_L_0', <function week4.<lambda>>),\n",
       "   ('outs_1_0', <function week4.<lambda>>),\n",
       "   ('pcount_2_0', <function week4.<lambda>>),\n",
       "   ('ball_3_1', <function week4.<lambda>>),\n",
       "   ('times_faced_0_0', <function week4.<lambda>>)],\n",
       "  'gig_score': 0.008649333379136065,\n",
       "  'prediction': 0},\n",
       " {'conjunction': [('stand_L_0', <function week4.<lambda>>),\n",
       "   ('outs_1_0', <function week4.<lambda>>),\n",
       "   ('pcount_2_0', <function week4.<lambda>>),\n",
       "   ('ball_3_0', <function week4.<lambda>>),\n",
       "   ('pcount_8_1', <function week4.<lambda>>)],\n",
       "  'gig_score': 0.0002798184427705852,\n",
       "  'prediction': 2},\n",
       " {'conjunction': [('stand_L_0', <function week4.<lambda>>),\n",
       "   ('outs_1_0', <function week4.<lambda>>),\n",
       "   ('pcount_2_0', <function week4.<lambda>>),\n",
       "   ('ball_3_0', <function week4.<lambda>>),\n",
       "   ('pcount_8_0', <function week4.<lambda>>)],\n",
       "  'gig_score': 0.0002798184427705852,\n",
       "  'prediction': 0}]"
      ]
     },
     "execution_count": 301,
     "metadata": {},
     "output_type": "execute_result"
    }
   ],
   "source": [
    "tree5['paths']\n"
   ]
  },
  {
   "cell_type": "markdown",
   "metadata": {},
   "source": [
    "The accuracy is not much better than the stump but at least now there are other values being predicted."
   ]
  },
  {
   "cell_type": "code",
   "execution_count": 290,
   "metadata": {
    "scrolled": true
   },
   "outputs": [
    {
     "data": {
      "text/plain": [
       "0.5094954489268457"
      ]
     },
     "execution_count": 290,
     "metadata": {},
     "output_type": "execute_result"
    }
   ],
   "source": [
    "pred_accuracy('tree_5',pitcher)"
   ]
  },
  {
   "cell_type": "code",
   "execution_count": 165,
   "metadata": {
    "scrolled": true
   },
   "outputs": [
    {
     "data": {
      "text/plain": [
       "8772.0"
      ]
     },
     "execution_count": 165,
     "metadata": {},
     "output_type": "execute_result"
    }
   ],
   "source": [
    "pitcher['tree_5'].value_counts()[0]"
   ]
  },
  {
   "cell_type": "markdown",
   "metadata": {},
   "source": [
    "I will now attempt to find the best tree by testing different depths."
   ]
  },
  {
   "cell_type": "code",
   "execution_count": 66,
   "metadata": {},
   "outputs": [
    {
     "data": {
      "text/plain": [
       "0.5224182492414878"
      ]
     },
     "execution_count": 66,
     "metadata": {},
     "output_type": "execute_result"
    }
   ],
   "source": [
    "tree10 = pitch_build_tree_iter(pitcher,features,'pitch',{'max-depth':10,'gig_cutoff':0.0})\n",
    "pitcher['tree_10'] = pitcher.apply(lambda row: tree_predictor(row,tree10),axis=1)\n",
    "pred_accuracy('tree_10',pitcher)"
   ]
  },
  {
   "cell_type": "code",
   "execution_count": 67,
   "metadata": {},
   "outputs": [
    {
     "data": {
      "text/plain": [
       "0.5339925834363412"
      ]
     },
     "execution_count": 67,
     "metadata": {},
     "output_type": "execute_result"
    }
   ],
   "source": [
    "tree15 = pitch_build_tree_iter(pitcher,features,'pitch',{'max-depth':15,'gig_cutoff':0.0})\n",
    "pitcher['tree_15'] = pitcher.apply(lambda row: tree_predictor(row,tree15),axis=1)\n",
    "pred_accuracy('tree_15',pitcher)"
   ]
  },
  {
   "cell_type": "code",
   "execution_count": 69,
   "metadata": {},
   "outputs": [
    {
     "data": {
      "text/plain": [
       "0.5371390043825149"
      ]
     },
     "execution_count": 69,
     "metadata": {},
     "output_type": "execute_result"
    }
   ],
   "source": [
    "tree20 = pitch_build_tree_iter(pitcher,features,'pitch',{'max-depth':20,'gig_cutoff':0.0})\n",
    "pitcher['tree_20'] = pitcher.apply(lambda row: tree_predictor(row,tree20),axis=1)\n",
    "pred_accuracy('tree_20',pitcher)"
   ]
  },
  {
   "cell_type": "code",
   "execution_count": 65,
   "metadata": {
    "scrolled": true
   },
   "outputs": [
    {
     "data": {
      "text/plain": [
       "0.537251376559164"
      ]
     },
     "execution_count": 65,
     "metadata": {},
     "output_type": "execute_result"
    }
   ],
   "source": [
    "tree44 = pitch_build_tree_iter(pitcher,features,'pitch',{'max-depth':44,'gig_cutoff':0.0})\n",
    "pitcher['tree_44'] = pitcher.apply(lambda row: tree_predictor(row,tree44),axis=1)\n",
    "pred_accuracy('tree_44',pitcher)"
   ]
  },
  {
   "cell_type": "markdown",
   "metadata": {},
   "source": [
    "It looks like Tree15 is just about as accurate as the full tree with max depth equaling the number of features. It produces a good variety of predictions as well."
   ]
  },
  {
   "cell_type": "code",
   "execution_count": 71,
   "metadata": {},
   "outputs": [
    {
     "data": {
      "text/plain": [
       "0    7518\n",
       "3     711\n",
       "2     579\n",
       "1      91\n",
       "Name: tree_15, dtype: int64"
      ]
     },
     "execution_count": 71,
     "metadata": {},
     "output_type": "execute_result"
    }
   ],
   "source": [
    "pitcher['tree_15'].value_counts()"
   ]
  },
  {
   "cell_type": "markdown",
   "metadata": {},
   "source": [
    "# Cross Validation"
   ]
  },
  {
   "cell_type": "markdown",
   "metadata": {},
   "source": [
    "Now lets cross validate the model and see what the accuracy is."
   ]
  },
  {
   "cell_type": "code",
   "execution_count": 74,
   "metadata": {},
   "outputs": [
    {
     "data": {
      "text/html": [
       "<div>\n",
       "<style scoped>\n",
       "    .dataframe tbody tr th:only-of-type {\n",
       "        vertical-align: middle;\n",
       "    }\n",
       "\n",
       "    .dataframe tbody tr th {\n",
       "        vertical-align: top;\n",
       "    }\n",
       "\n",
       "    .dataframe thead th {\n",
       "        text-align: right;\n",
       "    }\n",
       "</style>\n",
       "<table border=\"1\" class=\"dataframe\">\n",
       "  <thead>\n",
       "    <tr style=\"text-align: right;\">\n",
       "      <th></th>\n",
       "      <th>accuracy</th>\n",
       "      <th>name</th>\n",
       "    </tr>\n",
       "  </thead>\n",
       "  <tbody>\n",
       "    <tr>\n",
       "      <th>0</th>\n",
       "      <td>0.513343</td>\n",
       "      <td>fold 1 test</td>\n",
       "    </tr>\n",
       "    <tr>\n",
       "      <th>1</th>\n",
       "      <td>0.517556</td>\n",
       "      <td>fold 2 test</td>\n",
       "    </tr>\n",
       "    <tr>\n",
       "      <th>2</th>\n",
       "      <td>0.521770</td>\n",
       "      <td>fold 3 test</td>\n",
       "    </tr>\n",
       "    <tr>\n",
       "      <th>3</th>\n",
       "      <td>0.512640</td>\n",
       "      <td>fold 4 test</td>\n",
       "    </tr>\n",
       "    <tr>\n",
       "      <th>4</th>\n",
       "      <td>0.514615</td>\n",
       "      <td>fold 5 test</td>\n",
       "    </tr>\n",
       "  </tbody>\n",
       "</table>\n",
       "</div>"
      ],
      "text/plain": [
       "   accuracy         name\n",
       "0  0.513343  fold 1 test\n",
       "1  0.517556  fold 2 test\n",
       "2  0.521770  fold 3 test\n",
       "3  0.512640  fold 4 test\n",
       "4  0.514615  fold 5 test"
      ]
     },
     "execution_count": 74,
     "metadata": {},
     "output_type": "execute_result"
    }
   ],
   "source": [
    "max2_table = k_fold_random(pitcher, 5, 'pitch', {'max-depth':15}, features)\n",
    "max2_table.head()"
   ]
  },
  {
   "cell_type": "markdown",
   "metadata": {},
   "source": [
    "# Random Forest"
   ]
  },
  {
   "cell_type": "markdown",
   "metadata": {},
   "source": [
    "Now I will attempt a random forest to compare it to the normal decision tree."
   ]
  },
  {
   "cell_type": "code",
   "execution_count": 302,
   "metadata": {
    "scrolled": true
   },
   "outputs": [],
   "source": [
    "pitcher_rf = forest_builder(pitcher, features, 'pitch', {'total-trees':50,'max-depth':15})"
   ]
  },
  {
   "cell_type": "code",
   "execution_count": 303,
   "metadata": {},
   "outputs": [],
   "source": [
    "oob_table = get_oob_table(pitcher_rf,pitcher)\n",
    "oob_table['forest_1_oob'] = oob_table.apply(lambda row: oob_vote_taker(row, pitcher_rf), axis=1)"
   ]
  },
  {
   "cell_type": "markdown",
   "metadata": {},
   "source": [
    "The forest figured out the most efficient way is to guess fastball everytime. "
   ]
  },
  {
   "cell_type": "code",
   "execution_count": 305,
   "metadata": {
    "scrolled": true
   },
   "outputs": [
    {
     "data": {
      "text/plain": [
       "0    8899\n",
       "Name: forest_1_oob, dtype: int64"
      ]
     },
     "execution_count": 305,
     "metadata": {},
     "output_type": "execute_result"
    }
   ],
   "source": [
    "oob_table['forest_1_oob'].value_counts()"
   ]
  },
  {
   "cell_type": "code",
   "execution_count": 304,
   "metadata": {},
   "outputs": [
    {
     "data": {
      "text/plain": [
       "0.5072480053938645"
      ]
     },
     "execution_count": 304,
     "metadata": {},
     "output_type": "execute_result"
    }
   ],
   "source": [
    "pred_accuracy('forest_1_oob',oob_table)"
   ]
  },
  {
   "cell_type": "code",
   "execution_count": 308,
   "metadata": {},
   "outputs": [],
   "source": [
    "import os\n",
    "home_path =  os.path.expanduser('~')\n",
    "\n",
    "file_path = '/documents/CS/CIS399/'\n",
    "\n",
    "file_name = 'greinke_part2_done.csv'\n",
    "\n",
    "pitcher.to_csv(home_path + file_path + file_name, index=False)"
   ]
  }
 ],
 "metadata": {
  "kernelspec": {
   "display_name": "Python 2",
   "language": "python",
   "name": "python2"
  },
  "language_info": {
   "codemirror_mode": {
    "name": "ipython",
    "version": 2
   },
   "file_extension": ".py",
   "mimetype": "text/x-python",
   "name": "python",
   "nbconvert_exporter": "python",
   "pygments_lexer": "ipython2",
   "version": "2.7.14"
  }
 },
 "nbformat": 4,
 "nbformat_minor": 2
}
