{
 "cells": [
  {
   "cell_type": "markdown",
   "metadata": {},
   "source": [
    "# Introduction"
   ]
  },
  {
   "cell_type": "markdown",
   "metadata": {},
   "source": [
    "Zack Greinke is one of the best starting pitchers in the MLB. He has been a perennial All-Star for the last 14 seasons and still managed to put up 3 of hist best campaigns in the last three years (the last three seasons are significant in terms of baseball statistics because 2015 was the first season that MLB's movement tracking system, Statcast, was officially brought online in all 30 MLB stadiums).\n",
    "\n",
    "While Greinke is known for being a stud in general, he is also recognized for being very calculated and strategic in his pitch selection and approach to batters. This is why he is an intriguing subject for attempting to predict his pitch selection based off situational factors. An example of this, which is actually the basis for the presence of the variable $pk_coors$ (a dummy variable to indicate whether the game was held at coors field in Denver, significant to players because of Denver's elevation), is an article (https://www.fangraphs.com/tht/king-of-the-mountain-how-zack-greinke-took-control-in-coors-field/) highlighting how Greinke resorted to just 2 of his 5 pitches for the majority of his 5/5/17 start in Denver.\n",
    "\n",
    "The features I am choosing to look at are as follows (Each variable is binary): \n"
   ]
  },
  {
   "cell_type": "markdown",
   "metadata": {},
   "source": [
    "**outcome of prior pitch:**<br>\n",
    "'prior_ball','prior_foul_bunt','prior_foul_tip','prior_hit_by_pitch','prior_hit_into_play',\n",
    "'prior_hit_into_play_no_out', 'prior_hit_into_play_score','prior_intent_ball', 'prior_missed_bunt',\n",
    "'prior_swinging_strike','prior_swinging_strike_blocked',<br>"
   ]
  },
  {
   "cell_type": "markdown",
   "metadata": {},
   "source": [
    "**coors field dummy**<br>\n",
    "'pk_coors'<br>"
   ]
  },
  {
   "cell_type": "markdown",
   "metadata": {},
   "source": [
    "**presence of runners on each base**<br>\n",
    "'on_3b','on_2b','on_1b'"
   ]
  },
  {
   "cell_type": "markdown",
   "metadata": {},
   "source": [
    "**number of outs before pitch**<br>\n",
    "'outs_0','outs_1','outs_2'<br>"
   ]
  },
  {
   "cell_type": "markdown",
   "metadata": {},
   "source": [
    "**batter stance**<br>\n",
    "'stand_L','stand_R',<br>"
   ]
  },
  {
   "cell_type": "markdown",
   "metadata": {},
   "source": [
    "**number of strikes to batter**<br>\n",
    "'strike_0','strike_1','strike_2',"
   ]
  },
  {
   "cell_type": "markdown",
   "metadata": {},
   "source": [
    "**number of balls to batter**<br>\n",
    "'ball_0','ball_1','ball_2','ball_3',<br>"
   ]
  },
  {
   "cell_type": "markdown",
   "metadata": {},
   "source": [
    "**times the batter has faced the pitcher this game**<br>\n",
    "'times_faced_0','times_faced_1','times_faced_2','times_faced_3',<br>"
   ]
  },
  {
   "cell_type": "markdown",
   "metadata": {},
   "source": [
    "**number of pitches in the plate appearance**<br>\n",
    "'pcount_1','pcount_2','pcount_3','pcount_4','pcount_5','pcount_6','pcount_7','pcount_8','pcount_9','pcount_10',\n",
    " 'pcount_11','pcount_12','pcount_13'<br>"
   ]
  },
  {
   "cell_type": "markdown",
   "metadata": {},
   "source": [
    "The usage percentage across 8,899 pitches from 2015 to 2017 are as follows:"
   ]
  },
  {
   "cell_type": "code",
   "execution_count": 570,
   "metadata": {},
   "outputs": [
    {
     "data": {
      "text/html": [
       "<table>\n",
       "<thead><tr><th scope=col>types</th><th scope=col>percentage</th></tr></thead>\n",
       "<tbody>\n",
       "\t<tr><td>Fastball(FB) </td><td>0.5076975    </td></tr>\n",
       "\t<tr><td>Changeup(CH) </td><td>0.1719294    </td></tr>\n",
       "\t<tr><td>Curveball(CU)</td><td>0.1075402    </td></tr>\n",
       "\t<tr><td>Slider(SL)   </td><td>0.2084504    </td></tr>\n",
       "</tbody>\n",
       "</table>\n"
      ],
      "text/latex": [
       "\\begin{tabular}{r|ll}\n",
       " types & percentage\\\\\n",
       "\\hline\n",
       "\t Fastball(FB)  & 0.5076975    \\\\\n",
       "\t Changeup(CH)  & 0.1719294    \\\\\n",
       "\t Curveball(CU) & 0.1075402    \\\\\n",
       "\t Slider(SL)    & 0.2084504    \\\\\n",
       "\\end{tabular}\n"
      ],
      "text/markdown": [
       "\n",
       "types | percentage | \n",
       "|---|---|---|---|\n",
       "| Fastball(FB)  | 0.5076975     | \n",
       "| Changeup(CH)  | 0.1719294     | \n",
       "| Curveball(CU) | 0.1075402     | \n",
       "| Slider(SL)    | 0.2084504     | \n",
       "\n",
       "\n"
      ],
      "text/plain": [
       "  types         percentage\n",
       "1 Fastball(FB)  0.5076975 \n",
       "2 Changeup(CH)  0.1719294 \n",
       "3 Curveball(CU) 0.1075402 \n",
       "4 Slider(SL)    0.2084504 "
      ]
     },
     "metadata": {},
     "output_type": "display_data"
    }
   ],
   "source": [
    "FBper = nrow(pitcher[pitcher[,'pitch_FB']==1,])/nrow(pitcher)\n",
    "CHper = nrow(pitcher[pitcher[,'pitch_CH']==1,])/nrow(pitcher)\n",
    "CUper = nrow(pitcher[pitcher[,'pitch_CU']==1,])/nrow(pitcher)\n",
    "SLper = nrow(pitcher[pitcher[,'pitch_SL']==1,])/nrow(pitcher)\n",
    "types = c('Fastball(FB)','Changeup(CH)','Curveball(CU)','Slider(SL)')\n",
    "percentage = c(FBper,CHper,CUper,SLper)\n",
    "per = data.frame(types,percentage)\n",
    "xtable(per)"
   ]
  },
  {
   "cell_type": "code",
   "execution_count": 572,
   "metadata": {},
   "outputs": [],
   "source": [
    "pitcher = read.csv(\"C:/users/Zachary/Documents/CS/MATH410/greinke_15_16_17.csv\")\n",
    "library(xtable)\n",
    "library(foreign)\n",
    "library(nnet)\n",
    "library(caret)\n",
    "library(MASS)\n",
    "library(glmnet)\n",
    "library(pls)\n",
    "library(gam)\n",
    "set.seed(1)"
   ]
  },
  {
   "cell_type": "code",
   "execution_count": 341,
   "metadata": {},
   "outputs": [],
   "source": [
    "pitcher$pitch_FB = as.factor(pitcher$pitch_FB)\n",
    "pitcher$pitch_CU = as.factor(pitcher$pitch_CU)\n",
    "pitcher$pitch_CH = as.factor(pitcher$pitch_CH)\n",
    "pitcher$pitch_SL = as.factor(pitcher$pitch_SL)\n",
    "indxTrain = createDataPartition(y = pitcher$pitch,p = 0.75,list = FALSE)\n",
    "FBindx = createDataPartition(y = pitcher$pitch_FB,p = 0.75,list = FALSE)\n",
    "CHindx = createDataPartition(y = pitcher$pitch_CH,p = 0.75,list = FALSE)\n",
    "CUindx = createDataPartition(y = pitcher$pitch_CU,p = 0.75,list = FALSE)\n",
    "SLindx = createDataPartition(y = pitcher$pitch_SL,p = 0.75,list = FALSE)\n",
    "fb_train = pitcher[FBindx,]\n",
    "fb_test = pitcher[-FBindx,]\n",
    "ch_train = pitcher[CHindx,]\n",
    "ch_test = pitcher[-CHindx,]\n",
    "cu_train = pitcher[CUindx,]\n",
    "cu_test = pitcher[-CUindx,]\n",
    "sl_train = pitcher[SLindx,]\n",
    "sl_test = pitcher[-SLindx,]\n",
    "train = pitcher[indxTrain,]\n",
    "test = pitcher[-indxTrain,]"
   ]
  },
  {
   "cell_type": "code",
   "execution_count": 713,
   "metadata": {},
   "outputs": [],
   "source": [
    "train_data = train[c('prior_ball','prior_foul_bunt','prior_foul_tip','prior_hit_by_pitch','prior_hit_into_play',\n",
    "            'prior_hit_into_play_no_out', 'prior_hit_into_play_score','prior_intent_ball', 'prior_missed_bunt',\n",
    "            'prior_swinging_strike','prior_swinging_strike_blocked',\n",
    "            'pk_coors',\n",
    "            'on_3b','on_2b','on_1b',\n",
    "            'outs_0','outs_1','outs_2',\n",
    "            'stand_L','stand_R',\n",
    "            'strike_0','strike_1','strike_2',\n",
    "            'ball_0','ball_1','ball_2','ball_3',\n",
    "            'times_faced_0','times_faced_1','times_faced_2','times_faced_3',\n",
    "            'pcount_1','pcount_2','pcount_3','pcount_4','pcount_5','pcount_6','pcount_7','pcount_8','pcount_9','pcount_10',\n",
    "            'pcount_11','pcount_12','pcount_13')]\n",
    "test_data = test[c('prior_ball','prior_foul_bunt','prior_foul_tip','prior_hit_by_pitch','prior_hit_into_play',\n",
    "            'prior_hit_into_play_no_out', 'prior_hit_into_play_score','prior_intent_ball', 'prior_missed_bunt',\n",
    "            'prior_swinging_strike','prior_swinging_strike_blocked',\n",
    "            'pk_coors',\n",
    "            'on_3b','on_2b','on_1b',\n",
    "            'outs_0','outs_1','outs_2',\n",
    "            'stand_L','stand_R',\n",
    "            'strike_0','strike_1','strike_2',\n",
    "            'ball_0','ball_1','ball_2','ball_3',\n",
    "            'times_faced_0','times_faced_1','times_faced_2','times_faced_3',\n",
    "            'pcount_1','pcount_2','pcount_3','pcount_4','pcount_5','pcount_6','pcount_7','pcount_8','pcount_9','pcount_10',\n",
    "            'pcount_11','pcount_12','pcount_13')]\n"
   ]
  },
  {
   "cell_type": "markdown",
   "metadata": {},
   "source": [
    "# Binomial Logistic Regression"
   ]
  },
  {
   "cell_type": "markdown",
   "metadata": {},
   "source": [
    "First we will try to run logistic regression on the dummy variables for each pitch type to get an impression of how each pitch type responds to the feature set and whether some pitches are easier to predict than others."
   ]
  },
  {
   "cell_type": "code",
   "execution_count": 343,
   "metadata": {},
   "outputs": [
    {
     "name": "stderr",
     "output_type": "stream",
     "text": [
      "Warning message:\n",
      "\"glm.fit: algorithm did not converge\"Warning message:\n",
      "\"glm.fit: algorithm did not converge\"Warning message:\n",
      "\"glm.fit: algorithm did not converge\"Warning message:\n",
      "\"glm.fit: fitted probabilities numerically 0 or 1 occurred\"Warning message:\n",
      "\"glm.fit: algorithm did not converge\"Warning message:\n",
      "\"glm.fit: fitted probabilities numerically 0 or 1 occurred\""
     ]
    }
   ],
   "source": [
    "pitcher.fb = glm(pitch_FB~prior_ball+prior_foul_bunt+prior_foul_tip\n",
    "                  +prior_hit_by_pitch+prior_hit_into_play\n",
    "                  +prior_hit_into_play_no_out+prior_hit_into_play_score\n",
    "                  +prior_intent_ball+prior_missed_bunt\n",
    "                  +prior_swinging_strike+prior_swinging_strike_blocked\n",
    "                  +pk_coors+on_3b+on_2b+on_1b+outs_0+outs_1+outs_2\n",
    "                  +stand_L+stand_R+strike_0+strike_1+strike_2\n",
    "                  +ball_0+ball_1+ball_2+ball_3+times_faced_0+times_faced_1\n",
    "                  +times_faced_2+times_faced_3+pcount_1+pcount_2+pcount_3\n",
    "                  +pcount_4+pcount_5+pcount_6+pcount_7+pcount_8+pcount_9+pcount_10\n",
    "                  +pcount_11+pcount_12+pcount_13,data=fb_train,family=binomial)\n",
    "\n",
    "pitcher.ch = glm(pitch_CH~prior_ball+prior_foul_bunt+prior_foul_tip\n",
    "                  +prior_hit_by_pitch+prior_hit_into_play\n",
    "                  +prior_hit_into_play_no_out+prior_hit_into_play_score\n",
    "                  +prior_intent_ball+prior_missed_bunt\n",
    "                  +prior_swinging_strike+prior_swinging_strike_blocked\n",
    "                  +pk_coors+on_3b+on_2b+on_1b+outs_0+outs_1+outs_2\n",
    "                  +stand_L+stand_R+strike_0+strike_1+strike_2\n",
    "                  +ball_0+ball_1+ball_2+ball_3+times_faced_0+times_faced_1\n",
    "                  +times_faced_2+times_faced_3+pcount_1+pcount_2+pcount_3\n",
    "                  +pcount_4+pcount_5+pcount_6+pcount_7+pcount_8+pcount_9+pcount_10\n",
    "                  +pcount_11+pcount_12+pcount_13,data=ch_train,family=binomial)\n",
    "\n",
    "pitcher.cu = glm(pitch_CU~prior_ball+prior_foul_bunt+prior_foul_tip\n",
    "                  +prior_hit_by_pitch+prior_hit_into_play\n",
    "                  +prior_hit_into_play_no_out+prior_hit_into_play_score\n",
    "                  +prior_intent_ball+prior_missed_bunt\n",
    "                  +prior_swinging_strike+prior_swinging_strike_blocked\n",
    "                  +pk_coors+on_3b+on_2b+on_1b+outs_0+outs_1+outs_2\n",
    "                  +stand_L+stand_R+strike_0+strike_1+strike_2\n",
    "                  +ball_0+ball_1+ball_2+ball_3+times_faced_0+times_faced_1\n",
    "                  +times_faced_2+times_faced_3+pcount_1+pcount_2+pcount_3\n",
    "                  +pcount_4+pcount_5+pcount_6+pcount_7+pcount_8+pcount_9+pcount_10\n",
    "                  +pcount_11+pcount_12+pcount_13,data=cu_train,family=binomial)\n",
    "\n",
    "pitcher.sl = glm(pitch_SL~prior_ball+prior_foul_bunt+prior_foul_tip\n",
    "                  +prior_hit_by_pitch+prior_hit_into_play\n",
    "                  +prior_hit_into_play_no_out+prior_hit_into_play_score\n",
    "                  +prior_intent_ball+prior_missed_bunt\n",
    "                  +prior_swinging_strike+prior_swinging_strike_blocked\n",
    "                  +pk_coors+on_3b+on_2b+on_1b+outs_0+outs_1+outs_2\n",
    "                  +stand_L+stand_R+strike_0+strike_1+strike_2\n",
    "                  +ball_0+ball_1+ball_2+ball_3+times_faced_0+times_faced_1\n",
    "                  +times_faced_2+times_faced_3+pcount_1+pcount_2+pcount_3\n",
    "                  +pcount_4+pcount_5+pcount_6+pcount_7+pcount_8+pcount_9+pcount_10\n",
    "                  +pcount_11+pcount_12+pcount_13,data=sl_train,family=binomial)"
   ]
  },
  {
   "cell_type": "markdown",
   "metadata": {},
   "source": [
    "The confusion matrices for the binomial logistic regression models for each pitch type are displayed below."
   ]
  },
  {
   "cell_type": "markdown",
   "metadata": {},
   "source": [
    "## Fastball Prediction (accuracy:60%)"
   ]
  },
  {
   "cell_type": "code",
   "execution_count": 702,
   "metadata": {
    "scrolled": true
   },
   "outputs": [
    {
     "name": "stderr",
     "output_type": "stream",
     "text": [
      "Warning message in predict.lm(object, newdata, se.fit, scale = 1, type = ifelse(type == :\n",
      "\"prediction from a rank-deficient fit may be misleading\""
     ]
    }
   ],
   "source": [
    "fb.probs = predict(pitcher.fb,fb_test,type='response')\n",
    "fb.pred=rep(0,2224)\n",
    "fb.pred[fb.probs>0.5]=1"
   ]
  },
  {
   "cell_type": "code",
   "execution_count": 703,
   "metadata": {},
   "outputs": [
    {
     "data": {
      "text/html": [
       "<table>\n",
       "<thead><tr><th></th><th scope=col>0</th><th scope=col>1</th></tr></thead>\n",
       "<tbody>\n",
       "\t<tr><th scope=row>0</th><td>641</td><td>436</td></tr>\n",
       "\t<tr><th scope=row>1</th><td>454</td><td>693</td></tr>\n",
       "</tbody>\n",
       "</table>\n"
      ],
      "text/latex": [
       "\\begin{tabular}{r|ll}\n",
       "  & 0 & 1\\\\\n",
       "\\hline\n",
       "\t0 & 641 & 436\\\\\n",
       "\t1 & 454 & 693\\\\\n",
       "\\end{tabular}\n"
      ],
      "text/markdown": [
       "\n",
       "| <!--/--> | 0 | 1 | \n",
       "|---|---|\n",
       "| 0 | 641 | 436 | \n",
       "| 1 | 454 | 693 | \n",
       "\n",
       "\n"
      ],
      "text/plain": [
       "  0   1  \n",
       "0 641 436\n",
       "1 454 693"
      ]
     },
     "metadata": {},
     "output_type": "display_data"
    }
   ],
   "source": [
    "xtable(table(fb.pred,fb_test$pitch_FB))"
   ]
  },
  {
   "cell_type": "code",
   "execution_count": 346,
   "metadata": {
    "scrolled": true
   },
   "outputs": [
    {
     "data": {
      "text/html": [
       "0.599820143884892"
      ],
      "text/latex": [
       "0.599820143884892"
      ],
      "text/markdown": [
       "0.599820143884892"
      ],
      "text/plain": [
       "[1] 0.5998201"
      ]
     },
     "metadata": {},
     "output_type": "display_data"
    }
   ],
   "source": [
    "(641+693)/2224"
   ]
  },
  {
   "cell_type": "markdown",
   "metadata": {},
   "source": [
    "## Changeup Prediction (accuracy:83%)"
   ]
  },
  {
   "cell_type": "code",
   "execution_count": 704,
   "metadata": {
    "scrolled": false
   },
   "outputs": [
    {
     "name": "stderr",
     "output_type": "stream",
     "text": [
      "Warning message in predict.lm(object, newdata, se.fit, scale = 1, type = ifelse(type == :\n",
      "\"prediction from a rank-deficient fit may be misleading\""
     ]
    }
   ],
   "source": [
    "ch.probs = predict(pitcher.ch,ch_test,type='response')\n",
    "ch.pred=rep(0,2224)\n",
    "ch.pred[ch.probs>0.5]=1"
   ]
  },
  {
   "cell_type": "code",
   "execution_count": 705,
   "metadata": {},
   "outputs": [
    {
     "data": {
      "text/html": [
       "<table>\n",
       "<thead><tr><th></th><th scope=col>0</th><th scope=col>1</th></tr></thead>\n",
       "<tbody>\n",
       "\t<tr><th scope=row>0</th><td>1830</td><td>372 </td></tr>\n",
       "\t<tr><th scope=row>1</th><td>  12</td><td> 10 </td></tr>\n",
       "</tbody>\n",
       "</table>\n"
      ],
      "text/latex": [
       "\\begin{tabular}{r|ll}\n",
       "  & 0 & 1\\\\\n",
       "\\hline\n",
       "\t0 & 1830 & 372 \\\\\n",
       "\t1 &   12 &  10 \\\\\n",
       "\\end{tabular}\n"
      ],
      "text/markdown": [
       "\n",
       "| <!--/--> | 0 | 1 | \n",
       "|---|---|\n",
       "| 0 | 1830 | 372  | \n",
       "| 1 |   12 |  10  | \n",
       "\n",
       "\n"
      ],
      "text/plain": [
       "  0    1  \n",
       "0 1830 372\n",
       "1   12  10"
      ]
     },
     "metadata": {},
     "output_type": "display_data"
    }
   ],
   "source": [
    "xtable(table(ch.pred,ch_test$pitch_CH))"
   ]
  },
  {
   "cell_type": "code",
   "execution_count": 348,
   "metadata": {},
   "outputs": [
    {
     "data": {
      "text/html": [
       "0.827338129496403"
      ],
      "text/latex": [
       "0.827338129496403"
      ],
      "text/markdown": [
       "0.827338129496403"
      ],
      "text/plain": [
       "[1] 0.8273381"
      ]
     },
     "metadata": {},
     "output_type": "display_data"
    }
   ],
   "source": [
    "(1830+10)/2224"
   ]
  },
  {
   "cell_type": "markdown",
   "metadata": {},
   "source": [
    "## Curveball Prediction (accuracy:89%)"
   ]
  },
  {
   "cell_type": "code",
   "execution_count": 706,
   "metadata": {},
   "outputs": [
    {
     "name": "stderr",
     "output_type": "stream",
     "text": [
      "Warning message in predict.lm(object, newdata, se.fit, scale = 1, type = ifelse(type == :\n",
      "\"prediction from a rank-deficient fit may be misleading\""
     ]
    }
   ],
   "source": [
    "cu.probs = predict(pitcher.cu,cu_test,type='response')\n",
    "cu.pred=rep(0,2224)\n",
    "cu.pred[cu.probs>0.5]=1"
   ]
  },
  {
   "cell_type": "code",
   "execution_count": 707,
   "metadata": {},
   "outputs": [
    {
     "data": {
      "text/html": [
       "<table>\n",
       "<thead><tr><th></th><th scope=col>0</th><th scope=col>1</th></tr></thead>\n",
       "<tbody>\n",
       "\t<tr><th scope=row>0</th><td>1985</td><td>239 </td></tr>\n",
       "</tbody>\n",
       "</table>\n"
      ],
      "text/latex": [
       "\\begin{tabular}{r|ll}\n",
       "  & 0 & 1\\\\\n",
       "\\hline\n",
       "\t0 & 1985 & 239 \\\\\n",
       "\\end{tabular}\n"
      ],
      "text/markdown": [
       "\n",
       "| <!--/--> | 0 | 1 | \n",
       "|---|\n",
       "| 0 | 1985 | 239  | \n",
       "\n",
       "\n"
      ],
      "text/plain": [
       "  0    1  \n",
       "0 1985 239"
      ]
     },
     "metadata": {},
     "output_type": "display_data"
    }
   ],
   "source": [
    "xtable(table(cu.pred,cu_test$pitch_CU))"
   ]
  },
  {
   "cell_type": "code",
   "execution_count": 350,
   "metadata": {
    "scrolled": true
   },
   "outputs": [
    {
     "data": {
      "text/html": [
       "0.892535971223022"
      ],
      "text/latex": [
       "0.892535971223022"
      ],
      "text/markdown": [
       "0.892535971223022"
      ],
      "text/plain": [
       "[1] 0.892536"
      ]
     },
     "metadata": {},
     "output_type": "display_data"
    }
   ],
   "source": [
    "(1985+0)/2224"
   ]
  },
  {
   "cell_type": "markdown",
   "metadata": {},
   "source": [
    "# Slider Prediction (accuracy:78%)"
   ]
  },
  {
   "cell_type": "code",
   "execution_count": 708,
   "metadata": {
    "scrolled": false
   },
   "outputs": [
    {
     "name": "stderr",
     "output_type": "stream",
     "text": [
      "Warning message in predict.lm(object, newdata, se.fit, scale = 1, type = ifelse(type == :\n",
      "\"prediction from a rank-deficient fit may be misleading\""
     ]
    }
   ],
   "source": [
    "sl.probs = predict(pitcher.sl,sl_test,type='response')\n",
    "sl.pred=rep(0,2224)\n",
    "sl.pred[sl.probs>0.5]=1"
   ]
  },
  {
   "cell_type": "code",
   "execution_count": 709,
   "metadata": {},
   "outputs": [
    {
     "data": {
      "text/html": [
       "<table>\n",
       "<thead><tr><th></th><th scope=col>0</th><th scope=col>1</th></tr></thead>\n",
       "<tbody>\n",
       "\t<tr><th scope=row>0</th><td>1644</td><td>364 </td></tr>\n",
       "\t<tr><th scope=row>1</th><td> 117</td><td> 99 </td></tr>\n",
       "</tbody>\n",
       "</table>\n"
      ],
      "text/latex": [
       "\\begin{tabular}{r|ll}\n",
       "  & 0 & 1\\\\\n",
       "\\hline\n",
       "\t0 & 1644 & 364 \\\\\n",
       "\t1 &  117 &  99 \\\\\n",
       "\\end{tabular}\n"
      ],
      "text/markdown": [
       "\n",
       "| <!--/--> | 0 | 1 | \n",
       "|---|---|\n",
       "| 0 | 1644 | 364  | \n",
       "| 1 |  117 |  99  | \n",
       "\n",
       "\n"
      ],
      "text/plain": [
       "  0    1  \n",
       "0 1644 364\n",
       "1  117  99"
      ]
     },
     "metadata": {},
     "output_type": "display_data"
    }
   ],
   "source": [
    "xtable(table(sl.pred,sl_test$pitch_SL))"
   ]
  },
  {
   "cell_type": "code",
   "execution_count": 352,
   "metadata": {
    "scrolled": true
   },
   "outputs": [
    {
     "data": {
      "text/html": [
       "0.783723021582734"
      ],
      "text/latex": [
       "0.783723021582734"
      ],
      "text/markdown": [
       "0.783723021582734"
      ],
      "text/plain": [
       "[1] 0.783723"
      ]
     },
     "metadata": {},
     "output_type": "display_data"
    }
   ],
   "source": [
    "(1644+99)/2224"
   ]
  },
  {
   "cell_type": "markdown",
   "metadata": {},
   "source": [
    "The outcome of these models are not particularly interesting. In the case of all the offspeed pitches (pitches that are not a fastball), the model predicts 0 almost all the time, which leads to some pretty accurate results. This is purely because these pitches happen significantly less than fastballs. Now lets make a real model with all the pitch types as a response."
   ]
  },
  {
   "cell_type": "markdown",
   "metadata": {},
   "source": [
    "# Multinomial Logistic Regression"
   ]
  },
  {
   "cell_type": "code",
   "execution_count": 353,
   "metadata": {},
   "outputs": [
    {
     "name": "stdout",
     "output_type": "stream",
     "text": [
      "# weights:  184 (135 variable)\n",
      "initial  value 9253.514860 \n",
      "iter  10 value 7608.599011\n",
      "iter  20 value 7333.844956\n",
      "iter  30 value 7249.492481\n",
      "iter  40 value 7232.161564\n",
      "iter  50 value 7227.345601\n",
      "iter  60 value 7225.330141\n",
      "iter  70 value 7224.506450\n",
      "iter  80 value 7224.059765\n",
      "iter  90 value 7223.649903\n",
      "iter 100 value 7223.525723\n",
      "final  value 7223.525723 \n",
      "stopped after 100 iterations\n"
     ]
    }
   ],
   "source": [
    "pitcher.mn = multinom(pitch~prior_ball+prior_foul_bunt+prior_foul_tip\n",
    "                  +prior_hit_by_pitch+prior_hit_into_play\n",
    "                  +prior_hit_into_play_no_out+prior_hit_into_play_score\n",
    "                  +prior_intent_ball+prior_missed_bunt\n",
    "                  +prior_swinging_strike+prior_swinging_strike_blocked\n",
    "                  +pk_coors+on_3b+on_2b+on_1b+outs_0+outs_1+outs_2\n",
    "                  +stand_L+stand_R+strike_0+strike_1+strike_2\n",
    "                  +ball_0+ball_1+ball_2+ball_3+times_faced_0+times_faced_1\n",
    "                  +times_faced_2+times_faced_3+pcount_1+pcount_2+pcount_3\n",
    "                  +pcount_4+pcount_5+pcount_6+pcount_7+pcount_8+pcount_9+pcount_10\n",
    "                  +pcount_11+pcount_12+pcount_13,data=train)"
   ]
  },
  {
   "cell_type": "markdown",
   "metadata": {},
   "source": [
    "## Confusion Matrix (accuracy:52%)"
   ]
  },
  {
   "cell_type": "markdown",
   "metadata": {},
   "source": [
    "In this matrix, 0 = FB, 1 = CU, 2 = CH, and 3 = SL. The results of this classification model are completely different than the seperate models. Fastballs are being predicted with an 83% accuracy, curveballs with 0% accuracy, changeups with 14% accuracy, and sliders with 31% accuracy. This makes more sense based off usage percentages and the fact that fastballs and sliders should be easiest to classify, since fastballs are very frequent, and sliders are utilized in specific situations ( since Greinke throws right most of his sliders will be to righty batters)."
   ]
  },
  {
   "cell_type": "code",
   "execution_count": 354,
   "metadata": {
    "scrolled": false
   },
   "outputs": [
    {
     "data": {
      "text/html": [
       "<table>\n",
       "<thead><tr><th></th><th scope=col>0</th><th scope=col>1</th><th scope=col>2</th><th scope=col>3</th></tr></thead>\n",
       "<tbody>\n",
       "\t<tr><th scope=row>0</th><td>958</td><td>198</td><td>292</td><td>322</td></tr>\n",
       "\t<tr><th scope=row>1</th><td>  0</td><td>  0</td><td>  0</td><td>  0</td></tr>\n",
       "\t<tr><th scope=row>2</th><td> 76</td><td> 14</td><td> 52</td><td>  9</td></tr>\n",
       "\t<tr><th scope=row>3</th><td>119</td><td> 15</td><td> 27</td><td>142</td></tr>\n",
       "</tbody>\n",
       "</table>\n"
      ],
      "text/latex": [
       "\\begin{tabular}{r|llll}\n",
       "  & 0 & 1 & 2 & 3\\\\\n",
       "\\hline\n",
       "\t0 & 958 & 198 & 292 & 322\\\\\n",
       "\t1 &   0 &   0 &   0 &   0\\\\\n",
       "\t2 &  76 &  14 &  52 &   9\\\\\n",
       "\t3 & 119 &  15 &  27 & 142\\\\\n",
       "\\end{tabular}\n"
      ],
      "text/markdown": [
       "\n",
       "| <!--/--> | 0 | 1 | 2 | 3 | \n",
       "|---|---|---|---|\n",
       "| 0 | 958 | 198 | 292 | 322 | \n",
       "| 1 |   0 |   0 |   0 |   0 | \n",
       "| 2 |  76 |  14 |  52 |   9 | \n",
       "| 3 | 119 |  15 |  27 | 142 | \n",
       "\n",
       "\n"
      ],
      "text/plain": [
       "  0   1   2   3  \n",
       "0 958 198 292 322\n",
       "1   0   0   0   0\n",
       "2  76  14  52   9\n",
       "3 119  15  27 142"
      ]
     },
     "metadata": {},
     "output_type": "display_data"
    }
   ],
   "source": [
    "pitch.probs = predict(pitcher.mn,test)\n",
    "xtable(table(pitch.probs,test$pitch))"
   ]
  },
  {
   "cell_type": "code",
   "execution_count": 589,
   "metadata": {},
   "outputs": [
    {
     "data": {
      "text/html": [
       "459"
      ],
      "text/latex": [
       "459"
      ],
      "text/markdown": [
       "459"
      ],
      "text/plain": [
       "[1] 459"
      ]
     },
     "metadata": {},
     "output_type": "display_data"
    }
   ],
   "source": [
    "nrow(test[test[,'pitch_SL']==1,])"
   ]
  },
  {
   "cell_type": "code",
   "execution_count": 590,
   "metadata": {
    "scrolled": true
   },
   "outputs": [
    {
     "data": {
      "text/html": [
       "0.309368191721133"
      ],
      "text/latex": [
       "0.309368191721133"
      ],
      "text/markdown": [
       "0.309368191721133"
      ],
      "text/plain": [
       "[1] 0.3093682"
      ]
     },
     "metadata": {},
     "output_type": "display_data"
    }
   ],
   "source": [
    "142/459"
   ]
  },
  {
   "cell_type": "code",
   "execution_count": 582,
   "metadata": {
    "scrolled": true
   },
   "outputs": [
    {
     "data": {
      "text/html": [
       "0.830875975715525"
      ],
      "text/latex": [
       "0.830875975715525"
      ],
      "text/markdown": [
       "0.830875975715525"
      ],
      "text/plain": [
       "[1] 0.830876"
      ]
     },
     "metadata": {},
     "output_type": "display_data"
    }
   ],
   "source": [
    "958/(958+76+119)"
   ]
  },
  {
   "cell_type": "markdown",
   "metadata": {},
   "source": [
    "The dataset is partitioned into test and training sets, with pitch_type being evenly distributed between the sets and the training set including 75% of the original data. The test error will be used to compare the different models that will be tested. $$ \\text{test } \\varepsilon = 2.53 $$"
   ]
  },
  {
   "cell_type": "code",
   "execution_count": 356,
   "metadata": {
    "scrolled": true
   },
   "outputs": [
    {
     "data": {
      "text/html": [
       "2.52652877697842"
      ],
      "text/latex": [
       "2.52652877697842"
      ],
      "text/markdown": [
       "2.52652877697842"
      ],
      "text/plain": [
       "[1] 2.526529"
      ]
     },
     "metadata": {},
     "output_type": "display_data"
    }
   ],
   "source": [
    "mean((as.numeric(pitch.probs)-test$pitch)^2)"
   ]
  },
  {
   "cell_type": "markdown",
   "metadata": {},
   "source": [
    "# K-Nearest Neighbors"
   ]
  },
  {
   "cell_type": "code",
   "execution_count": 362,
   "metadata": {},
   "outputs": [],
   "source": [
    "knn_data = pitcher[c('prior_ball','prior_foul_bunt','prior_foul_tip','prior_hit_by_pitch','prior_hit_into_play',\n",
    "            'prior_hit_into_play_no_out', 'prior_hit_into_play_score','prior_intent_ball', 'prior_missed_bunt',\n",
    "            'prior_swinging_strike','prior_swinging_strike_blocked',\n",
    "            'pk_coors',\n",
    "            'on_3b','on_2b','on_1b',\n",
    "            'outs_0','outs_1','outs_2',\n",
    "            'stand_L','stand_R',\n",
    "            'strike_0','strike_1','strike_2',\n",
    "            'ball_0','ball_1','ball_2','ball_3',\n",
    "            'times_faced_0','times_faced_1','times_faced_2','times_faced_3',\n",
    "            'pcount_1','pcount_2','pcount_3','pcount_4','pcount_5','pcount_6','pcount_7','pcount_8','pcount_9','pcount_10',\n",
    "            'pcount_11','pcount_12','pcount_13')]\n",
    "train_classes = as.factor(pitcher$pitch)"
   ]
  },
  {
   "cell_type": "markdown",
   "metadata": {},
   "source": [
    "With A KNN model, the model is trained on the entire dataset so the result will be cross validated. The result is a slightly less accurate confusion matrix 81, but with an improvement in classifying curveballs (+3%) at the cost of a loss in accuracy for sliders (-6%)."
   ]
  },
  {
   "cell_type": "code",
   "execution_count": 595,
   "metadata": {},
   "outputs": [
    {
     "data": {
      "text/html": [
       "0.253521126760563"
      ],
      "text/latex": [
       "0.253521126760563"
      ],
      "text/markdown": [
       "0.253521126760563"
      ],
      "text/plain": [
       "[1] 0.2535211"
      ]
     },
     "metadata": {},
     "output_type": "display_data"
    }
   ],
   "source": [
    "5.4 / (5.4+0.6+0.1+15.2)"
   ]
  },
  {
   "cell_type": "code",
   "execution_count": 363,
   "metadata": {
    "scrolled": false
   },
   "outputs": [
    {
     "data": {
      "text/plain": [
       "Cross-Validated (10 fold) Confusion Matrix \n",
       "\n",
       "(entries are percentual average cell counts across resamples)\n",
       " \n",
       "          Reference\n",
       "Prediction    0    1    2    3\n",
       "         0 41.2  8.7 12.9 15.2\n",
       "         1  0.9  0.3  0.3  0.1\n",
       "         2  3.3  0.7  2.5  0.6\n",
       "         3  5.5  1.0  1.5  5.4\n",
       "                            \n",
       " Accuracy (average) : 0.4942\n"
      ]
     },
     "metadata": {},
     "output_type": "display_data"
    }
   ],
   "source": [
    "knnFit <- train(knn_data, train_classes,method = \"knn\",trControl = trainControl(method = \"cv\"))\n",
    "confusionMatrix(knnFit)"
   ]
  },
  {
   "cell_type": "markdown",
   "metadata": {},
   "source": [
    "$$ \\text{KNN test } \\varepsilon = 2.38$$"
   ]
  },
  {
   "cell_type": "code",
   "execution_count": 364,
   "metadata": {},
   "outputs": [
    {
     "data": {
      "text/html": [
       "2.38354316546763"
      ],
      "text/latex": [
       "2.38354316546763"
      ],
      "text/markdown": [
       "2.38354316546763"
      ],
      "text/plain": [
       "[1] 2.383543"
      ]
     },
     "metadata": {},
     "output_type": "display_data"
    }
   ],
   "source": [
    "mean((as.numeric(predict(knnFit, test_data))-test$pitch)^2)"
   ]
  },
  {
   "cell_type": "markdown",
   "metadata": {},
   "source": [
    "# Linear Discriminant Analysis"
   ]
  },
  {
   "cell_type": "markdown",
   "metadata": {},
   "source": [
    "An LDA model is fitted but we will have to return to this model later because the function gives the warning that variables are collinear. This will be fixed when the dimensionality of the dataset is reduced but for now LDA appears to be performing at a similar success rate as the multinomial logistic regression model."
   ]
  },
  {
   "cell_type": "markdown",
   "metadata": {},
   "source": [
    "Accuracy = 51% <br>\n",
    "FB accuracy = 81.6% <br>\n",
    "CU accuracy = 0% <br>\n",
    "CH accuracy = 16% <br>\n",
    "SL accuracy = 30%"
   ]
  },
  {
   "cell_type": "code",
   "execution_count": 714,
   "metadata": {
    "scrolled": false
   },
   "outputs": [
    {
     "name": "stderr",
     "output_type": "stream",
     "text": [
      "Warning message in lda.default(x, grouping, ...):\n",
      "\"variables are collinear\""
     ]
    }
   ],
   "source": [
    "lda_fit = lda(train_data, train$pitch,family=multinom(K=3))\n",
    "pred.lda = predict(lda_fit, test_data)"
   ]
  },
  {
   "cell_type": "code",
   "execution_count": 715,
   "metadata": {},
   "outputs": [
    {
     "data": {
      "text/html": [
       "<table>\n",
       "<thead><tr><th></th><th scope=col>0</th><th scope=col>1</th><th scope=col>2</th><th scope=col>3</th></tr></thead>\n",
       "<tbody>\n",
       "\t<tr><th scope=row>0</th><td>941</td><td>199</td><td>284</td><td>320</td></tr>\n",
       "\t<tr><th scope=row>1</th><td>  2</td><td>  0</td><td>  0</td><td>  1</td></tr>\n",
       "\t<tr><th scope=row>2</th><td> 76</td><td> 12</td><td> 60</td><td>  9</td></tr>\n",
       "\t<tr><th scope=row>3</th><td>134</td><td> 16</td><td> 27</td><td>143</td></tr>\n",
       "</tbody>\n",
       "</table>\n"
      ],
      "text/latex": [
       "\\begin{tabular}{r|llll}\n",
       "  & 0 & 1 & 2 & 3\\\\\n",
       "\\hline\n",
       "\t0 & 941 & 199 & 284 & 320\\\\\n",
       "\t1 &   2 &   0 &   0 &   1\\\\\n",
       "\t2 &  76 &  12 &  60 &   9\\\\\n",
       "\t3 & 134 &  16 &  27 & 143\\\\\n",
       "\\end{tabular}\n"
      ],
      "text/markdown": [
       "\n",
       "| <!--/--> | 0 | 1 | 2 | 3 | \n",
       "|---|---|---|---|\n",
       "| 0 | 941 | 199 | 284 | 320 | \n",
       "| 1 |   2 |   0 |   0 |   1 | \n",
       "| 2 |  76 |  12 |  60 |   9 | \n",
       "| 3 | 134 |  16 |  27 | 143 | \n",
       "\n",
       "\n"
      ],
      "text/plain": [
       "  0   1   2   3  \n",
       "0 941 199 284 320\n",
       "1   2   0   0   1\n",
       "2  76  12  60   9\n",
       "3 134  16  27 143"
      ]
     },
     "metadata": {},
     "output_type": "display_data"
    }
   ],
   "source": [
    "xtable(table(pred.lda$class,test$pitch))"
   ]
  },
  {
   "cell_type": "code",
   "execution_count": 606,
   "metadata": {},
   "outputs": [
    {
     "data": {
      "text/html": [
       "0.302325581395349"
      ],
      "text/latex": [
       "0.302325581395349"
      ],
      "text/markdown": [
       "0.302325581395349"
      ],
      "text/plain": [
       "[1] 0.3023256"
      ]
     },
     "metadata": {},
     "output_type": "display_data"
    }
   ],
   "source": [
    "143/(143+9+1+320)"
   ]
  },
  {
   "cell_type": "code",
   "execution_count": 366,
   "metadata": {},
   "outputs": [
    {
     "data": {
      "text/html": [
       "0.514388489208633"
      ],
      "text/latex": [
       "0.514388489208633"
      ],
      "text/markdown": [
       "0.514388489208633"
      ],
      "text/plain": [
       "[1] 0.5143885"
      ]
     },
     "metadata": {},
     "output_type": "display_data"
    }
   ],
   "source": [
    "(941 + 0 + 60 + 143)/nrow(test)"
   ]
  },
  {
   "cell_type": "markdown",
   "metadata": {},
   "source": [
    "$$ \\text{LDA test } \\varepsilon = 2.63 $$"
   ]
  },
  {
   "cell_type": "code",
   "execution_count": 367,
   "metadata": {
    "scrolled": false
   },
   "outputs": [
    {
     "data": {
      "text/html": [
       "2.62814748201439"
      ],
      "text/latex": [
       "2.62814748201439"
      ],
      "text/markdown": [
       "2.62814748201439"
      ],
      "text/plain": [
       "[1] 2.628147"
      ]
     },
     "metadata": {},
     "output_type": "display_data"
    }
   ],
   "source": [
    "mean((as.numeric(pred.lda$class)-test$pitch)^2)"
   ]
  },
  {
   "cell_type": "markdown",
   "metadata": {},
   "source": [
    "# Cross-Validation and Subset Selection"
   ]
  },
  {
   "cell_type": "code",
   "execution_count": 615,
   "metadata": {},
   "outputs": [],
   "source": [
    "x = model.matrix(pitch~prior_ball+prior_foul_bunt+prior_foul_tip\n",
    "                  +prior_hit_by_pitch+prior_hit_into_play\n",
    "                  +prior_hit_into_play_no_out+prior_hit_into_play_score\n",
    "                  +prior_intent_ball+prior_missed_bunt\n",
    "                  +prior_swinging_strike+prior_swinging_strike_blocked\n",
    "                  +pk_coors+on_3b+on_2b+on_1b+outs_0+outs_1+outs_2\n",
    "                  +stand_L+stand_R+strike_0+strike_1+strike_2\n",
    "                  +ball_0+ball_1+ball_2+ball_3+times_faced_0+times_faced_1\n",
    "                  +times_faced_2+times_faced_3+pcount_1+pcount_2+pcount_3\n",
    "                  +pcount_4+pcount_5+pcount_6+pcount_7+pcount_8+pcount_9+pcount_10\n",
    "                  +pcount_11+pcount_12+pcount_13,pitcher)[,-1]\n",
    "y = pitcher$pitch"
   ]
  },
  {
   "cell_type": "code",
   "execution_count": 613,
   "metadata": {},
   "outputs": [],
   "source": [
    "grid =10^ seq (10,-10, length =100)"
   ]
  },
  {
   "cell_type": "markdown",
   "metadata": {},
   "source": [
    "To perform feature selection I will create a lasso model and cross validate it so select the best $\\lambda$ value, then use that lambda value to reduce the coefficients towards zero."
   ]
  },
  {
   "cell_type": "code",
   "execution_count": 616,
   "metadata": {
    "scrolled": true
   },
   "outputs": [
    {
     "data": {
      "image/png": "[encoded data removed]",
      "text/plain": [
       "plot without title"
      ]
     },
     "metadata": {},
     "output_type": "display_data"
    }
   ],
   "source": [
    "cv.out = cv.glmnet(x[indxTrain,],y[indxTrain],family='multinomial',type.multinomial='grouped')\n",
    "plot(cv.out)"
   ]
  },
  {
   "cell_type": "code",
   "execution_count": 617,
   "metadata": {
    "scrolled": true
   },
   "outputs": [
    {
     "data": {
      "text/html": [
       "0.00530548024606172"
      ],
      "text/latex": [
       "0.00530548024606172"
      ],
      "text/markdown": [
       "0.00530548024606172"
      ],
      "text/plain": [
       "[1] 0.00530548"
      ]
     },
     "metadata": {},
     "output_type": "display_data"
    }
   ],
   "source": [
    "bestlam =cv.out$lambda.min\n",
    "bestlam"
   ]
  },
  {
   "cell_type": "code",
   "execution_count": 618,
   "metadata": {},
   "outputs": [],
   "source": [
    "lasso.pred=predict(lasso.mod,s=bestlam,newx=x[-indxTrain,],type='response')"
   ]
  },
  {
   "cell_type": "code",
   "execution_count": 619,
   "metadata": {
    "scrolled": false
   },
   "outputs": [
    {
     "data": {
      "text/html": [
       "2.53012589928058"
      ],
      "text/latex": [
       "2.53012589928058"
      ],
      "text/markdown": [
       "2.53012589928058"
      ],
      "text/plain": [
       "[1] 2.530126"
      ]
     },
     "metadata": {},
     "output_type": "display_data"
    }
   ],
   "source": [
    "mean((round(lasso.pred) -y[-indxTrain])^2)"
   ]
  },
  {
   "cell_type": "code",
   "execution_count": 620,
   "metadata": {},
   "outputs": [],
   "source": [
    "out=glmnet(x,y,lambda=grid,family='multinomial',type.multinomial='grouped')"
   ]
  },
  {
   "cell_type": "code",
   "execution_count": 621,
   "metadata": {},
   "outputs": [],
   "source": [
    "coefs_fb = data.frame(coef(out,s=bestlam)$'0'[,1])\n",
    "coefs_cu = data.frame(coef(out,s=bestlam)$'1'[,1])\n",
    "coefs_ch = data.frame(coef(out,s=bestlam)$'2'[,1])\n",
    "coefs_sl = data.frame(coef(out,s=bestlam)$'3'[,1])"
   ]
  },
  {
   "cell_type": "code",
   "execution_count": 622,
   "metadata": {
    "scrolled": true
   },
   "outputs": [],
   "source": [
    "coefs = data.frame(coefs_fb[,0],coefs_fb[,1],coefs_cu[,1],coefs_ch[,1],coefs_sl[,1])\n",
    "colnames(coefs) = c(\"FB\",\"CU\",\"CH\",\"SL\")"
   ]
  },
  {
   "cell_type": "markdown",
   "metadata": {},
   "source": [
    "The coefficients for each variable after it is reduced by the lasso are shown below. Not counting the intercept term, there are still 37 variables that were not reduced to zero. This is not a very exciting subset so I will try to find the best $\\lambda$ value again but this time I will include a max value for the degrees of freedom I will allow the model to have. This will ensure that I have a reduced dataset of a certain size."
   ]
  },
  {
   "cell_type": "code",
   "execution_count": 628,
   "metadata": {
    "scrolled": true
   },
   "outputs": [
    {
     "data": {
      "text/html": [
       "<table>\n",
       "<thead><tr><th></th><th scope=col>FB</th><th scope=col>CU</th><th scope=col>CH</th><th scope=col>SL</th></tr></thead>\n",
       "<tbody>\n",
       "\t<tr><th scope=row>(Intercept)</th><td> 1.210894e+00</td><td>-7.428190e-01</td><td>-8.964071e-01</td><td> 4.283324e-01</td></tr>\n",
       "\t<tr><th scope=row>prior_ball</th><td>-5.250616e-02</td><td>-3.405571e-02</td><td> 1.479702e-01</td><td>-6.140831e-02</td></tr>\n",
       "\t<tr><th scope=row>prior_foul_bunt</th><td>-1.267953e-02</td><td>-3.026692e-02</td><td>-1.385628e-02</td><td> 5.680273e-02</td></tr>\n",
       "\t<tr><th scope=row>prior_foul_tip</th><td> 1.452773e-02</td><td>-9.698748e-02</td><td>-7.453442e-02</td><td> 1.569942e-01</td></tr>\n",
       "\t<tr><th scope=row>prior_hit_into_play</th><td> 2.697388e-02</td><td> 2.774578e-02</td><td>-1.228716e-02</td><td>-4.243250e-02</td></tr>\n",
       "\t<tr><th scope=row>prior_hit_into_play_no_out</th><td>-8.610931e-02</td><td>-1.871126e-01</td><td> 1.800075e-01</td><td> 9.321435e-02</td></tr>\n",
       "\t<tr><th scope=row>prior_hit_into_play_score</th><td>-1.558507e-01</td><td> 9.797363e-02</td><td>-4.063418e-02</td><td> 9.851127e-02</td></tr>\n",
       "\t<tr><th scope=row>prior_intent_ball</th><td>-9.644840e-01</td><td>-6.282688e-01</td><td>-1.177802e-02</td><td> 1.604531e+00</td></tr>\n",
       "\t<tr><th scope=row>prior_missed_bunt</th><td> 5.743291e-01</td><td>-2.819475e-01</td><td> 1.881310e-01</td><td>-4.805126e-01</td></tr>\n",
       "\t<tr><th scope=row>prior_swinging_strike</th><td> 7.281957e-03</td><td>-8.933301e-03</td><td>-1.085906e-02</td><td> 1.251040e-02</td></tr>\n",
       "\t<tr><th scope=row>prior_swinging_strike_blocked</th><td> 8.695887e-02</td><td>-4.287692e-02</td><td> 8.645729e-03</td><td>-5.272768e-02</td></tr>\n",
       "\t<tr><th scope=row>pk_coors</th><td> 5.433733e-01</td><td>-1.419531e-02</td><td>-1.946241e-01</td><td>-3.345539e-01</td></tr>\n",
       "\t<tr><th scope=row>on_3b</th><td>-1.854733e-02</td><td>-3.131832e-03</td><td>-3.605451e-04</td><td> 2.203971e-02</td></tr>\n",
       "\t<tr><th scope=row>on_2b</th><td>-2.023010e-01</td><td>-1.793701e-01</td><td> 4.867225e-02</td><td> 3.329989e-01</td></tr>\n",
       "\t<tr><th scope=row>on_1b</th><td>-1.161084e-01</td><td>-1.923600e-01</td><td> 3.515651e-01</td><td>-4.309663e-02</td></tr>\n",
       "\t<tr><th scope=row>outs_0</th><td>-6.659963e-02</td><td>-4.785696e-02</td><td> 2.647538e-02</td><td> 8.798121e-02</td></tr>\n",
       "\t<tr><th scope=row>outs_1</th><td>-8.159889e-03</td><td> 2.007074e-02</td><td> 6.693406e-03</td><td>-1.860425e-02</td></tr>\n",
       "\t<tr><th scope=row>outs_2</th><td> 1.105663e-01</td><td>-4.072887e-02</td><td>-6.019441e-02</td><td>-9.642999e-03</td></tr>\n",
       "\t<tr><th scope=row>stand_L</th><td>-2.866882e-01</td><td> 4.577216e-01</td><td> 1.235597e+00</td><td>-1.406631e+00</td></tr>\n",
       "\t<tr><th scope=row>stand_R</th><td> 2.556535e-15</td><td>-4.081994e-15</td><td>-1.101946e-14</td><td> 1.254492e-14</td></tr>\n",
       "\t<tr><th scope=row>strike_0</th><td> 9.823543e-03</td><td>-9.655365e-05</td><td> 3.505459e-03</td><td>-1.323245e-02</td></tr>\n",
       "\t<tr><th scope=row>strike_2</th><td>-2.985791e-01</td><td>-1.565338e-01</td><td>-3.092765e-01</td><td> 7.643894e-01</td></tr>\n",
       "\t<tr><th scope=row>ball_0</th><td>-3.615769e-02</td><td> 3.648300e-02</td><td>-2.847893e-02</td><td> 2.815361e-02</td></tr>\n",
       "\t<tr><th scope=row>ball_2</th><td> 8.373560e-03</td><td>-4.601838e-02</td><td> 6.624528e-02</td><td>-2.860046e-02</td></tr>\n",
       "\t<tr><th scope=row>ball_3</th><td> 3.172644e-01</td><td>-2.781870e-01</td><td> 4.886866e-02</td><td>-8.794601e-02</td></tr>\n",
       "\t<tr><th scope=row>times_faced_0</th><td> 2.184878e-01</td><td>-8.715836e-02</td><td>-8.234611e-02</td><td>-4.898333e-02</td></tr>\n",
       "\t<tr><th scope=row>times_faced_2</th><td>-1.338559e-01</td><td> 3.596180e-02</td><td> 8.790006e-02</td><td> 9.993992e-03</td></tr>\n",
       "\t<tr><th scope=row>times_faced_3</th><td>-8.138096e-02</td><td>-1.190950e-01</td><td> 3.343138e-02</td><td> 1.670446e-01</td></tr>\n",
       "\t<tr><th scope=row>pcount_1</th><td> 2.101385e-01</td><td> 3.810296e-01</td><td>-3.668206e-01</td><td>-2.243475e-01</td></tr>\n",
       "\t<tr><th scope=row>pcount_2</th><td>-9.693442e-03</td><td>-7.125860e-04</td><td> 9.574765e-03</td><td> 8.312626e-04</td></tr>\n",
       "\t<tr><th scope=row>pcount_4</th><td>-1.092953e-02</td><td>-2.312648e-03</td><td>-1.956316e-02</td><td> 3.280534e-02</td></tr>\n",
       "\t<tr><th scope=row>pcount_5</th><td> 1.879927e-02</td><td>-2.620768e-02</td><td> 4.778728e-03</td><td> 2.629686e-03</td></tr>\n",
       "\t<tr><th scope=row>pcount_6</th><td> 1.330146e-01</td><td>-4.861580e-02</td><td> 7.414224e-03</td><td>-9.181301e-02</td></tr>\n",
       "\t<tr><th scope=row>pcount_7</th><td>-8.189035e-02</td><td> 1.542434e-01</td><td> 7.685686e-02</td><td>-1.492099e-01</td></tr>\n",
       "\t<tr><th scope=row>pcount_8</th><td> 4.699181e-02</td><td> 1.202344e-01</td><td>-2.669584e-02</td><td>-1.405303e-01</td></tr>\n",
       "\t<tr><th scope=row>pcount_9</th><td>-2.233119e-01</td><td> 1.997467e-01</td><td> 2.618714e-01</td><td>-2.383062e-01</td></tr>\n",
       "\t<tr><th scope=row>pcount_12</th><td> 1.399416e-01</td><td>-1.199694e-01</td><td> 5.352144e-01</td><td>-5.551866e-01</td></tr>\n",
       "\t<tr><th scope=row>pcount_13</th><td>-3.431724e-02</td><td>-3.506927e-03</td><td>-9.111722e-03</td><td> 4.693589e-02</td></tr>\n",
       "</tbody>\n",
       "</table>\n"
      ],
      "text/latex": [
       "\\begin{tabular}{r|llll}\n",
       "  & FB & CU & CH & SL\\\\\n",
       "\\hline\n",
       "\t(Intercept) &  1.210894e+00 & -7.428190e-01 & -8.964071e-01 &  4.283324e-01\\\\\n",
       "\tprior\\_ball & -5.250616e-02 & -3.405571e-02 &  1.479702e-01 & -6.140831e-02\\\\\n",
       "\tprior\\_foul\\_bunt & -1.267953e-02 & -3.026692e-02 & -1.385628e-02 &  5.680273e-02\\\\\n",
       "\tprior\\_foul\\_tip &  1.452773e-02 & -9.698748e-02 & -7.453442e-02 &  1.569942e-01\\\\\n",
       "\tprior\\_hit\\_into\\_play &  2.697388e-02 &  2.774578e-02 & -1.228716e-02 & -4.243250e-02\\\\\n",
       "\tprior\\_hit\\_into\\_play\\_no\\_out & -8.610931e-02 & -1.871126e-01 &  1.800075e-01 &  9.321435e-02\\\\\n",
       "\tprior\\_hit\\_into\\_play\\_score & -1.558507e-01 &  9.797363e-02 & -4.063418e-02 &  9.851127e-02\\\\\n",
       "\tprior\\_intent\\_ball & -9.644840e-01 & -6.282688e-01 & -1.177802e-02 &  1.604531e+00\\\\\n",
       "\tprior\\_missed\\_bunt &  5.743291e-01 & -2.819475e-01 &  1.881310e-01 & -4.805126e-01\\\\\n",
       "\tprior\\_swinging\\_strike &  7.281957e-03 & -8.933301e-03 & -1.085906e-02 &  1.251040e-02\\\\\n",
       "\tprior\\_swinging\\_strike\\_blocked &  8.695887e-02 & -4.287692e-02 &  8.645729e-03 & -5.272768e-02\\\\\n",
       "\tpk\\_coors &  5.433733e-01 & -1.419531e-02 & -1.946241e-01 & -3.345539e-01\\\\\n",
       "\ton\\_3b & -1.854733e-02 & -3.131832e-03 & -3.605451e-04 &  2.203971e-02\\\\\n",
       "\ton\\_2b & -2.023010e-01 & -1.793701e-01 &  4.867225e-02 &  3.329989e-01\\\\\n",
       "\ton\\_1b & -1.161084e-01 & -1.923600e-01 &  3.515651e-01 & -4.309663e-02\\\\\n",
       "\touts\\_0 & -6.659963e-02 & -4.785696e-02 &  2.647538e-02 &  8.798121e-02\\\\\n",
       "\touts\\_1 & -8.159889e-03 &  2.007074e-02 &  6.693406e-03 & -1.860425e-02\\\\\n",
       "\touts\\_2 &  1.105663e-01 & -4.072887e-02 & -6.019441e-02 & -9.642999e-03\\\\\n",
       "\tstand\\_L & -2.866882e-01 &  4.577216e-01 &  1.235597e+00 & -1.406631e+00\\\\\n",
       "\tstand\\_R &  2.556535e-15 & -4.081994e-15 & -1.101946e-14 &  1.254492e-14\\\\\n",
       "\tstrike\\_0 &  9.823543e-03 & -9.655365e-05 &  3.505459e-03 & -1.323245e-02\\\\\n",
       "\tstrike\\_2 & -2.985791e-01 & -1.565338e-01 & -3.092765e-01 &  7.643894e-01\\\\\n",
       "\tball\\_0 & -3.615769e-02 &  3.648300e-02 & -2.847893e-02 &  2.815361e-02\\\\\n",
       "\tball\\_2 &  8.373560e-03 & -4.601838e-02 &  6.624528e-02 & -2.860046e-02\\\\\n",
       "\tball\\_3 &  3.172644e-01 & -2.781870e-01 &  4.886866e-02 & -8.794601e-02\\\\\n",
       "\ttimes\\_faced\\_0 &  2.184878e-01 & -8.715836e-02 & -8.234611e-02 & -4.898333e-02\\\\\n",
       "\ttimes\\_faced\\_2 & -1.338559e-01 &  3.596180e-02 &  8.790006e-02 &  9.993992e-03\\\\\n",
       "\ttimes\\_faced\\_3 & -8.138096e-02 & -1.190950e-01 &  3.343138e-02 &  1.670446e-01\\\\\n",
       "\tpcount\\_1 &  2.101385e-01 &  3.810296e-01 & -3.668206e-01 & -2.243475e-01\\\\\n",
       "\tpcount\\_2 & -9.693442e-03 & -7.125860e-04 &  9.574765e-03 &  8.312626e-04\\\\\n",
       "\tpcount\\_4 & -1.092953e-02 & -2.312648e-03 & -1.956316e-02 &  3.280534e-02\\\\\n",
       "\tpcount\\_5 &  1.879927e-02 & -2.620768e-02 &  4.778728e-03 &  2.629686e-03\\\\\n",
       "\tpcount\\_6 &  1.330146e-01 & -4.861580e-02 &  7.414224e-03 & -9.181301e-02\\\\\n",
       "\tpcount\\_7 & -8.189035e-02 &  1.542434e-01 &  7.685686e-02 & -1.492099e-01\\\\\n",
       "\tpcount\\_8 &  4.699181e-02 &  1.202344e-01 & -2.669584e-02 & -1.405303e-01\\\\\n",
       "\tpcount\\_9 & -2.233119e-01 &  1.997467e-01 &  2.618714e-01 & -2.383062e-01\\\\\n",
       "\tpcount\\_12 &  1.399416e-01 & -1.199694e-01 &  5.352144e-01 & -5.551866e-01\\\\\n",
       "\tpcount\\_13 & -3.431724e-02 & -3.506927e-03 & -9.111722e-03 &  4.693589e-02\\\\\n",
       "\\end{tabular}\n"
      ],
      "text/markdown": [
       "\n",
       "| <!--/--> | FB | CU | CH | SL | \n",
       "|---|---|---|---|---|---|---|---|---|---|---|---|---|---|---|---|---|---|---|---|---|---|---|---|---|---|---|---|---|---|---|---|---|---|---|---|---|---|\n",
       "| (Intercept) |  1.210894e+00 | -7.428190e-01 | -8.964071e-01 |  4.283324e-01 | \n",
       "| prior_ball | -5.250616e-02 | -3.405571e-02 |  1.479702e-01 | -6.140831e-02 | \n",
       "| prior_foul_bunt | -1.267953e-02 | -3.026692e-02 | -1.385628e-02 |  5.680273e-02 | \n",
       "| prior_foul_tip |  1.452773e-02 | -9.698748e-02 | -7.453442e-02 |  1.569942e-01 | \n",
       "| prior_hit_into_play |  2.697388e-02 |  2.774578e-02 | -1.228716e-02 | -4.243250e-02 | \n",
       "| prior_hit_into_play_no_out | -8.610931e-02 | -1.871126e-01 |  1.800075e-01 |  9.321435e-02 | \n",
       "| prior_hit_into_play_score | -1.558507e-01 |  9.797363e-02 | -4.063418e-02 |  9.851127e-02 | \n",
       "| prior_intent_ball | -9.644840e-01 | -6.282688e-01 | -1.177802e-02 |  1.604531e+00 | \n",
       "| prior_missed_bunt |  5.743291e-01 | -2.819475e-01 |  1.881310e-01 | -4.805126e-01 | \n",
       "| prior_swinging_strike |  7.281957e-03 | -8.933301e-03 | -1.085906e-02 |  1.251040e-02 | \n",
       "| prior_swinging_strike_blocked |  8.695887e-02 | -4.287692e-02 |  8.645729e-03 | -5.272768e-02 | \n",
       "| pk_coors |  5.433733e-01 | -1.419531e-02 | -1.946241e-01 | -3.345539e-01 | \n",
       "| on_3b | -1.854733e-02 | -3.131832e-03 | -3.605451e-04 |  2.203971e-02 | \n",
       "| on_2b | -2.023010e-01 | -1.793701e-01 |  4.867225e-02 |  3.329989e-01 | \n",
       "| on_1b | -1.161084e-01 | -1.923600e-01 |  3.515651e-01 | -4.309663e-02 | \n",
       "| outs_0 | -6.659963e-02 | -4.785696e-02 |  2.647538e-02 |  8.798121e-02 | \n",
       "| outs_1 | -8.159889e-03 |  2.007074e-02 |  6.693406e-03 | -1.860425e-02 | \n",
       "| outs_2 |  1.105663e-01 | -4.072887e-02 | -6.019441e-02 | -9.642999e-03 | \n",
       "| stand_L | -2.866882e-01 |  4.577216e-01 |  1.235597e+00 | -1.406631e+00 | \n",
       "| stand_R |  2.556535e-15 | -4.081994e-15 | -1.101946e-14 |  1.254492e-14 | \n",
       "| strike_0 |  9.823543e-03 | -9.655365e-05 |  3.505459e-03 | -1.323245e-02 | \n",
       "| strike_2 | -2.985791e-01 | -1.565338e-01 | -3.092765e-01 |  7.643894e-01 | \n",
       "| ball_0 | -3.615769e-02 |  3.648300e-02 | -2.847893e-02 |  2.815361e-02 | \n",
       "| ball_2 |  8.373560e-03 | -4.601838e-02 |  6.624528e-02 | -2.860046e-02 | \n",
       "| ball_3 |  3.172644e-01 | -2.781870e-01 |  4.886866e-02 | -8.794601e-02 | \n",
       "| times_faced_0 |  2.184878e-01 | -8.715836e-02 | -8.234611e-02 | -4.898333e-02 | \n",
       "| times_faced_2 | -1.338559e-01 |  3.596180e-02 |  8.790006e-02 |  9.993992e-03 | \n",
       "| times_faced_3 | -8.138096e-02 | -1.190950e-01 |  3.343138e-02 |  1.670446e-01 | \n",
       "| pcount_1 |  2.101385e-01 |  3.810296e-01 | -3.668206e-01 | -2.243475e-01 | \n",
       "| pcount_2 | -9.693442e-03 | -7.125860e-04 |  9.574765e-03 |  8.312626e-04 | \n",
       "| pcount_4 | -1.092953e-02 | -2.312648e-03 | -1.956316e-02 |  3.280534e-02 | \n",
       "| pcount_5 |  1.879927e-02 | -2.620768e-02 |  4.778728e-03 |  2.629686e-03 | \n",
       "| pcount_6 |  1.330146e-01 | -4.861580e-02 |  7.414224e-03 | -9.181301e-02 | \n",
       "| pcount_7 | -8.189035e-02 |  1.542434e-01 |  7.685686e-02 | -1.492099e-01 | \n",
       "| pcount_8 |  4.699181e-02 |  1.202344e-01 | -2.669584e-02 | -1.405303e-01 | \n",
       "| pcount_9 | -2.233119e-01 |  1.997467e-01 |  2.618714e-01 | -2.383062e-01 | \n",
       "| pcount_12 |  1.399416e-01 | -1.199694e-01 |  5.352144e-01 | -5.551866e-01 | \n",
       "| pcount_13 | -3.431724e-02 | -3.506927e-03 | -9.111722e-03 |  4.693589e-02 | \n",
       "\n",
       "\n"
      ],
      "text/plain": [
       "                              FB            CU            CH           \n",
       "(Intercept)                    1.210894e+00 -7.428190e-01 -8.964071e-01\n",
       "prior_ball                    -5.250616e-02 -3.405571e-02  1.479702e-01\n",
       "prior_foul_bunt               -1.267953e-02 -3.026692e-02 -1.385628e-02\n",
       "prior_foul_tip                 1.452773e-02 -9.698748e-02 -7.453442e-02\n",
       "prior_hit_into_play            2.697388e-02  2.774578e-02 -1.228716e-02\n",
       "prior_hit_into_play_no_out    -8.610931e-02 -1.871126e-01  1.800075e-01\n",
       "prior_hit_into_play_score     -1.558507e-01  9.797363e-02 -4.063418e-02\n",
       "prior_intent_ball             -9.644840e-01 -6.282688e-01 -1.177802e-02\n",
       "prior_missed_bunt              5.743291e-01 -2.819475e-01  1.881310e-01\n",
       "prior_swinging_strike          7.281957e-03 -8.933301e-03 -1.085906e-02\n",
       "prior_swinging_strike_blocked  8.695887e-02 -4.287692e-02  8.645729e-03\n",
       "pk_coors                       5.433733e-01 -1.419531e-02 -1.946241e-01\n",
       "on_3b                         -1.854733e-02 -3.131832e-03 -3.605451e-04\n",
       "on_2b                         -2.023010e-01 -1.793701e-01  4.867225e-02\n",
       "on_1b                         -1.161084e-01 -1.923600e-01  3.515651e-01\n",
       "outs_0                        -6.659963e-02 -4.785696e-02  2.647538e-02\n",
       "outs_1                        -8.159889e-03  2.007074e-02  6.693406e-03\n",
       "outs_2                         1.105663e-01 -4.072887e-02 -6.019441e-02\n",
       "stand_L                       -2.866882e-01  4.577216e-01  1.235597e+00\n",
       "stand_R                        2.556535e-15 -4.081994e-15 -1.101946e-14\n",
       "strike_0                       9.823543e-03 -9.655365e-05  3.505459e-03\n",
       "strike_2                      -2.985791e-01 -1.565338e-01 -3.092765e-01\n",
       "ball_0                        -3.615769e-02  3.648300e-02 -2.847893e-02\n",
       "ball_2                         8.373560e-03 -4.601838e-02  6.624528e-02\n",
       "ball_3                         3.172644e-01 -2.781870e-01  4.886866e-02\n",
       "times_faced_0                  2.184878e-01 -8.715836e-02 -8.234611e-02\n",
       "times_faced_2                 -1.338559e-01  3.596180e-02  8.790006e-02\n",
       "times_faced_3                 -8.138096e-02 -1.190950e-01  3.343138e-02\n",
       "pcount_1                       2.101385e-01  3.810296e-01 -3.668206e-01\n",
       "pcount_2                      -9.693442e-03 -7.125860e-04  9.574765e-03\n",
       "pcount_4                      -1.092953e-02 -2.312648e-03 -1.956316e-02\n",
       "pcount_5                       1.879927e-02 -2.620768e-02  4.778728e-03\n",
       "pcount_6                       1.330146e-01 -4.861580e-02  7.414224e-03\n",
       "pcount_7                      -8.189035e-02  1.542434e-01  7.685686e-02\n",
       "pcount_8                       4.699181e-02  1.202344e-01 -2.669584e-02\n",
       "pcount_9                      -2.233119e-01  1.997467e-01  2.618714e-01\n",
       "pcount_12                      1.399416e-01 -1.199694e-01  5.352144e-01\n",
       "pcount_13                     -3.431724e-02 -3.506927e-03 -9.111722e-03\n",
       "                              SL           \n",
       "(Intercept)                    4.283324e-01\n",
       "prior_ball                    -6.140831e-02\n",
       "prior_foul_bunt                5.680273e-02\n",
       "prior_foul_tip                 1.569942e-01\n",
       "prior_hit_into_play           -4.243250e-02\n",
       "prior_hit_into_play_no_out     9.321435e-02\n",
       "prior_hit_into_play_score      9.851127e-02\n",
       "prior_intent_ball              1.604531e+00\n",
       "prior_missed_bunt             -4.805126e-01\n",
       "prior_swinging_strike          1.251040e-02\n",
       "prior_swinging_strike_blocked -5.272768e-02\n",
       "pk_coors                      -3.345539e-01\n",
       "on_3b                          2.203971e-02\n",
       "on_2b                          3.329989e-01\n",
       "on_1b                         -4.309663e-02\n",
       "outs_0                         8.798121e-02\n",
       "outs_1                        -1.860425e-02\n",
       "outs_2                        -9.642999e-03\n",
       "stand_L                       -1.406631e+00\n",
       "stand_R                        1.254492e-14\n",
       "strike_0                      -1.323245e-02\n",
       "strike_2                       7.643894e-01\n",
       "ball_0                         2.815361e-02\n",
       "ball_2                        -2.860046e-02\n",
       "ball_3                        -8.794601e-02\n",
       "times_faced_0                 -4.898333e-02\n",
       "times_faced_2                  9.993992e-03\n",
       "times_faced_3                  1.670446e-01\n",
       "pcount_1                      -2.243475e-01\n",
       "pcount_2                       8.312626e-04\n",
       "pcount_4                       3.280534e-02\n",
       "pcount_5                       2.629686e-03\n",
       "pcount_6                      -9.181301e-02\n",
       "pcount_7                      -1.492099e-01\n",
       "pcount_8                      -1.405303e-01\n",
       "pcount_9                      -2.383062e-01\n",
       "pcount_12                     -5.551866e-01\n",
       "pcount_13                      4.693589e-02"
      ]
     },
     "metadata": {},
     "output_type": "display_data"
    }
   ],
   "source": [
    "nonzero=coefs[coefs[,1:4]!=0,]\n",
    "nonzero = nonzero[1:38,]\n",
    "xtable(nonzero)"
   ]
  },
  {
   "cell_type": "code",
   "execution_count": 640,
   "metadata": {
    "scrolled": true
   },
   "outputs": [
    {
     "data": {
      "image/png": "[encoded data removed]",
      "text/plain": [
       "plot without title"
      ]
     },
     "metadata": {},
     "output_type": "display_data"
    }
   ],
   "source": [
    "cv.out = cv.glmnet(x[indxTrain,],y[indxTrain],family='multinomial',type.multinomial='grouped',dfmax=10)\n",
    "plot(cv.out)"
   ]
  },
  {
   "cell_type": "code",
   "execution_count": 641,
   "metadata": {
    "scrolled": true
   },
   "outputs": [
    {
     "data": {
      "text/html": [
       "<table>\n",
       "<thead><tr><th></th><th scope=col>FB</th><th scope=col>CU</th><th scope=col>CH</th><th scope=col>SL</th></tr></thead>\n",
       "<tbody>\n",
       "\t<tr><th scope=row>(Intercept)</th><td> 1.1045899519</td><td>-7.896260e-01</td><td>-0.7098664935</td><td> 0.3949025826</td></tr>\n",
       "\t<tr><th scope=row>prior_ball</th><td>-0.0021289816</td><td>-4.249187e-03</td><td> 0.0117266534</td><td>-0.0053484845</td></tr>\n",
       "\t<tr><th scope=row>prior_hit_into_play</th><td> 0.0040548387</td><td> 4.334266e-03</td><td>-0.0039775130</td><td>-0.0044115922</td></tr>\n",
       "\t<tr><th scope=row>prior_intent_ball</th><td>-0.0651731527</td><td>-2.307410e-02</td><td>-0.0066233889</td><td> 0.0948706401</td></tr>\n",
       "\t<tr><th scope=row>pk_coors</th><td> 0.0264360624</td><td>-3.146744e-03</td><td>-0.0080393144</td><td>-0.0152500039</td></tr>\n",
       "\t<tr><th scope=row>on_2b</th><td>-0.1147890918</td><td>-5.144227e-02</td><td> 0.0373841867</td><td> 0.1288471724</td></tr>\n",
       "\t<tr><th scope=row>on_1b</th><td>-0.0539856519</td><td>-4.774701e-02</td><td> 0.1027086429</td><td>-0.0009759781</td></tr>\n",
       "\t<tr><th scope=row>outs_0</th><td>-0.0001761825</td><td>-2.618552e-05</td><td> 0.0000574748</td><td> 0.0001448932</td></tr>\n",
       "\t<tr><th scope=row>outs_2</th><td> 0.0107209622</td><td>-3.114152e-03</td><td>-0.0046266831</td><td>-0.0029801273</td></tr>\n",
       "\t<tr><th scope=row>stand_L</th><td>-0.2483571748</td><td> 3.785942e-01</td><td> 1.0079665733</td><td>-1.1382035753</td></tr>\n",
       "</tbody>\n",
       "</table>\n"
      ],
      "text/latex": [
       "\\begin{tabular}{r|llll}\n",
       "  & FB & CU & CH & SL\\\\\n",
       "\\hline\n",
       "\t(Intercept) &  1.1045899519 & -7.896260e-01 & -0.7098664935 &  0.3949025826\\\\\n",
       "\tprior\\_ball & -0.0021289816 & -4.249187e-03 &  0.0117266534 & -0.0053484845\\\\\n",
       "\tprior\\_hit\\_into\\_play &  0.0040548387 &  4.334266e-03 & -0.0039775130 & -0.0044115922\\\\\n",
       "\tprior\\_intent\\_ball & -0.0651731527 & -2.307410e-02 & -0.0066233889 &  0.0948706401\\\\\n",
       "\tpk\\_coors &  0.0264360624 & -3.146744e-03 & -0.0080393144 & -0.0152500039\\\\\n",
       "\ton\\_2b & -0.1147890918 & -5.144227e-02 &  0.0373841867 &  0.1288471724\\\\\n",
       "\ton\\_1b & -0.0539856519 & -4.774701e-02 &  0.1027086429 & -0.0009759781\\\\\n",
       "\touts\\_0 & -0.0001761825 & -2.618552e-05 &  0.0000574748 &  0.0001448932\\\\\n",
       "\touts\\_2 &  0.0107209622 & -3.114152e-03 & -0.0046266831 & -0.0029801273\\\\\n",
       "\tstand\\_L & -0.2483571748 &  3.785942e-01 &  1.0079665733 & -1.1382035753\\\\\n",
       "\\end{tabular}\n"
      ],
      "text/markdown": [
       "\n",
       "| <!--/--> | FB | CU | CH | SL | \n",
       "|---|---|---|---|---|---|---|---|---|---|\n",
       "| (Intercept) |  1.1045899519 | -7.896260e-01 | -0.7098664935 |  0.3949025826 | \n",
       "| prior_ball | -0.0021289816 | -4.249187e-03 |  0.0117266534 | -0.0053484845 | \n",
       "| prior_hit_into_play |  0.0040548387 |  4.334266e-03 | -0.0039775130 | -0.0044115922 | \n",
       "| prior_intent_ball | -0.0651731527 | -2.307410e-02 | -0.0066233889 |  0.0948706401 | \n",
       "| pk_coors |  0.0264360624 | -3.146744e-03 | -0.0080393144 | -0.0152500039 | \n",
       "| on_2b | -0.1147890918 | -5.144227e-02 |  0.0373841867 |  0.1288471724 | \n",
       "| on_1b | -0.0539856519 | -4.774701e-02 |  0.1027086429 | -0.0009759781 | \n",
       "| outs_0 | -0.0001761825 | -2.618552e-05 |  0.0000574748 |  0.0001448932 | \n",
       "| outs_2 |  0.0107209622 | -3.114152e-03 | -0.0046266831 | -0.0029801273 | \n",
       "| stand_L | -0.2483571748 |  3.785942e-01 |  1.0079665733 | -1.1382035753 | \n",
       "\n",
       "\n"
      ],
      "text/plain": [
       "                    FB            CU            CH            SL           \n",
       "(Intercept)          1.1045899519 -7.896260e-01 -0.7098664935  0.3949025826\n",
       "prior_ball          -0.0021289816 -4.249187e-03  0.0117266534 -0.0053484845\n",
       "prior_hit_into_play  0.0040548387  4.334266e-03 -0.0039775130 -0.0044115922\n",
       "prior_intent_ball   -0.0651731527 -2.307410e-02 -0.0066233889  0.0948706401\n",
       "pk_coors             0.0264360624 -3.146744e-03 -0.0080393144 -0.0152500039\n",
       "on_2b               -0.1147890918 -5.144227e-02  0.0373841867  0.1288471724\n",
       "on_1b               -0.0539856519 -4.774701e-02  0.1027086429 -0.0009759781\n",
       "outs_0              -0.0001761825 -2.618552e-05  0.0000574748  0.0001448932\n",
       "outs_2               0.0107209622 -3.114152e-03 -0.0046266831 -0.0029801273\n",
       "stand_L             -0.2483571748  3.785942e-01  1.0079665733 -1.1382035753"
      ]
     },
     "metadata": {},
     "output_type": "display_data"
    }
   ],
   "source": [
    "bestlam =cv.out$lambda.min\n",
    "out=glmnet(x,y,lambda=grid,family='multinomial',type.multinomial='grouped')\n",
    "coefs_fb = data.frame(coef(out,s=bestlam)$'0'[,1])\n",
    "coefs_cu = data.frame(coef(out,s=bestlam)$'1'[,1])\n",
    "coefs_ch = data.frame(coef(out,s=bestlam)$'2'[,1])\n",
    "coefs_sl = data.frame(coef(out,s=bestlam)$'3'[,1])\n",
    "coefs = data.frame(coefs_fb[,0],coefs_fb[,1],coefs_cu[,1],coefs_ch[,1],coefs_sl[,1])\n",
    "colnames(coefs) = c(\"FB\",\"CU\",\"CH\",\"SL\")\n",
    "nonzero=coefs[coefs[,1:4]!=0,]\n",
    "nonzero = nonzero[1:10,]\n",
    "xtable(nonzero)"
   ]
  },
  {
   "cell_type": "markdown",
   "metadata": {},
   "source": [
    "Now we have an interesting subset that includes variables that seem to be more worthwile than many of the original ones included. Lets see if this will effect performance of the models used above."
   ]
  },
  {
   "cell_type": "markdown",
   "metadata": {},
   "source": [
    "# Re-Test Models with Reduced Dataset"
   ]
  },
  {
   "cell_type": "code",
   "execution_count": 643,
   "metadata": {},
   "outputs": [],
   "source": [
    "train_data = train[c('prior_ball','prior_hit_into_play','prior_intent_ball','pk_coors','on_2b','on_1b','outs_0','outs_2',\n",
    "                     'stand_L')]\n",
    "test_data = test[c('prior_ball','prior_hit_into_play','prior_intent_ball','pk_coors','on_2b','on_1b','outs_0','outs_2',\n",
    "                     'stand_L')]"
   ]
  },
  {
   "cell_type": "markdown",
   "metadata": {},
   "source": [
    "## LDA"
   ]
  },
  {
   "cell_type": "markdown",
   "metadata": {},
   "source": [
    "There is no longer an issue of collinearity so LDA will produce meaningful results now.\n",
    "\n",
    "Accuracy = 53% <br>\n",
    "FB accuracy = 93% <br>\n",
    "CU accuracy = 0% <br>\n",
    "CH accuracy = 9% <br>\n",
    "SL accuracy = 14%\n",
    "\n",
    "$$ \\text{test } \\varepsilon = 1.93$$"
   ]
  },
  {
   "cell_type": "markdown",
   "metadata": {},
   "source": [
    "There is a slight improvement in general."
   ]
  },
  {
   "cell_type": "code",
   "execution_count": 650,
   "metadata": {
    "scrolled": true
   },
   "outputs": [
    {
     "data": {
      "text/html": [
       "0.137420718816068"
      ],
      "text/latex": [
       "0.137420718816068"
      ],
      "text/markdown": [
       "0.137420718816068"
      ],
      "text/plain": [
       "[1] 0.1374207"
      ]
     },
     "metadata": {},
     "output_type": "display_data"
    }
   ],
   "source": [
    "65/(404+4+65)"
   ]
  },
  {
   "cell_type": "code",
   "execution_count": 666,
   "metadata": {},
   "outputs": [
    {
     "data": {
      "text/html": [
       "0.910521582733813"
      ],
      "text/latex": [
       "0.910521582733813"
      ],
      "text/markdown": [
       "0.910521582733813"
      ],
      "text/plain": [
       "[1] 0.9105216"
      ]
     },
     "metadata": {},
     "output_type": "display_data"
    }
   ],
   "source": [
    "(1073+218+330+404)/nrow(test)"
   ]
  },
  {
   "cell_type": "code",
   "execution_count": 644,
   "metadata": {
    "scrolled": false
   },
   "outputs": [
    {
     "data": {
      "text/html": [
       "<table>\n",
       "<thead><tr><th></th><th scope=col>0</th><th scope=col>1</th><th scope=col>2</th><th scope=col>3</th></tr></thead>\n",
       "<tbody>\n",
       "\t<tr><th scope=row>0</th><td>1073</td><td>218 </td><td>330 </td><td>404 </td></tr>\n",
       "\t<tr><th scope=row>1</th><td>   0</td><td>  0 </td><td>  0 </td><td>  0 </td></tr>\n",
       "\t<tr><th scope=row>2</th><td>  28</td><td>  7 </td><td> 32 </td><td>  4 </td></tr>\n",
       "\t<tr><th scope=row>3</th><td>  52</td><td>  2 </td><td>  9 </td><td> 65 </td></tr>\n",
       "</tbody>\n",
       "</table>\n"
      ],
      "text/latex": [
       "\\begin{tabular}{r|llll}\n",
       "  & 0 & 1 & 2 & 3\\\\\n",
       "\\hline\n",
       "\t0 & 1073 & 218  & 330  & 404 \\\\\n",
       "\t1 &    0 &   0  &   0  &   0 \\\\\n",
       "\t2 &   28 &   7  &  32  &   4 \\\\\n",
       "\t3 &   52 &   2  &   9  &  65 \\\\\n",
       "\\end{tabular}\n"
      ],
      "text/markdown": [
       "\n",
       "| <!--/--> | 0 | 1 | 2 | 3 | \n",
       "|---|---|---|---|\n",
       "| 0 | 1073 | 218  | 330  | 404  | \n",
       "| 1 |    0 |   0  |   0  |   0  | \n",
       "| 2 |   28 |   7  |  32  |   4  | \n",
       "| 3 |   52 |   2  |   9  |  65  | \n",
       "\n",
       "\n"
      ],
      "text/plain": [
       "  0    1   2   3  \n",
       "0 1073 218 330 404\n",
       "1    0   0   0   0\n",
       "2   28   7  32   4\n",
       "3   52   2   9  65"
      ]
     },
     "metadata": {},
     "output_type": "display_data"
    }
   ],
   "source": [
    "lda_fit = lda(train_data, train$pitch)\n",
    "pred.lda = predict(lda_fit, test_data)\n",
    "xtable(table(pred.lda$class,test$pitch))"
   ]
  },
  {
   "cell_type": "code",
   "execution_count": 645,
   "metadata": {
    "scrolled": false
   },
   "outputs": [
    {
     "data": {
      "text/html": [
       "1.92535971223022"
      ],
      "text/latex": [
       "1.92535971223022"
      ],
      "text/markdown": [
       "1.92535971223022"
      ],
      "text/plain": [
       "[1] 1.92536"
      ]
     },
     "metadata": {},
     "output_type": "display_data"
    }
   ],
   "source": [
    "mean((as.numeric(pred.lda$class)-test$pitch)^2)"
   ]
  },
  {
   "cell_type": "code",
   "execution_count": 646,
   "metadata": {},
   "outputs": [
    {
     "data": {
      "text/html": [
       "0.526079136690647"
      ],
      "text/latex": [
       "0.526079136690647"
      ],
      "text/markdown": [
       "0.526079136690647"
      ],
      "text/plain": [
       "[1] 0.5260791"
      ]
     },
     "metadata": {},
     "output_type": "display_data"
    }
   ],
   "source": [
    "(1073+32+65)/nrow(test)"
   ]
  },
  {
   "cell_type": "markdown",
   "metadata": {},
   "source": [
    "## KNN"
   ]
  },
  {
   "cell_type": "code",
   "execution_count": 451,
   "metadata": {},
   "outputs": [],
   "source": [
    "knn_data = pitcher[c('prior_ball','prior_hit_into_play','prior_intent_ball','pk_coors','on_2b','on_1b','outs_0','outs_2',\n",
    "                     'stand_L')]"
   ]
  },
  {
   "cell_type": "code",
   "execution_count": null,
   "metadata": {},
   "outputs": [],
   "source": []
  },
  {
   "cell_type": "markdown",
   "metadata": {},
   "source": [
    "Accuracy = 51% <br>\n",
    "FB accuracy = 93% <br>\n",
    "CU accuracy = 0% <br>\n",
    "CH accuracy = 13% <br>\n",
    "SL accuracy = 10%\n",
    "\n",
    "$$ \\text{test } \\varepsilon = 1.89$$"
   ]
  },
  {
   "cell_type": "code",
   "execution_count": 659,
   "metadata": {
    "scrolled": true
   },
   "outputs": [
    {
     "data": {
      "text/html": [
       "0.103286384976526"
      ],
      "text/latex": [
       "0.103286384976526"
      ],
      "text/markdown": [
       "0.103286384976526"
      ],
      "text/plain": [
       "[1] 0.1032864"
      ]
     },
     "metadata": {},
     "output_type": "display_data"
    }
   ],
   "source": [
    "2.2/(18.8+2.2+0.3)"
   ]
  },
  {
   "cell_type": "code",
   "execution_count": 663,
   "metadata": {},
   "outputs": [
    {
     "data": {
      "text/html": [
       "90.2"
      ],
      "text/latex": [
       "90.2"
      ],
      "text/markdown": [
       "90.2"
      ],
      "text/plain": [
       "[1] 90.2"
      ]
     },
     "metadata": {},
     "output_type": "display_data"
    }
   ],
   "source": [
    "46.9+9.9+14.6+18.8"
   ]
  },
  {
   "cell_type": "code",
   "execution_count": 452,
   "metadata": {
    "scrolled": false
   },
   "outputs": [
    {
     "data": {
      "text/plain": [
       "Cross-Validated (10 fold) Confusion Matrix \n",
       "\n",
       "(entries are percentual average cell counts across resamples)\n",
       " \n",
       "          Reference\n",
       "Prediction    0    1    2    3\n",
       "         0 46.9  9.9 14.6 18.8\n",
       "         1  0.0  0.0  0.0  0.0\n",
       "         2  2.0  0.5  2.3  0.3\n",
       "         3  1.8  0.3  0.3  2.2\n",
       "                            \n",
       " Accuracy (average) : 0.5143\n"
      ]
     },
     "metadata": {},
     "output_type": "display_data"
    }
   ],
   "source": [
    "train_classes = as.factor(pitcher$pitch)\n",
    "knnFit = train(knn_data, train_classes,method = \"knn\",trControl = trainControl(method = \"cv\"))\n",
    "confusionMatrix(knnFit)"
   ]
  },
  {
   "cell_type": "code",
   "execution_count": 453,
   "metadata": {},
   "outputs": [
    {
     "data": {
      "text/html": [
       "1.89208633093525"
      ],
      "text/latex": [
       "1.89208633093525"
      ],
      "text/markdown": [
       "1.89208633093525"
      ],
      "text/plain": [
       "[1] 1.892086"
      ]
     },
     "metadata": {},
     "output_type": "display_data"
    }
   ],
   "source": [
    "mean((as.numeric(predict(knnFit, test_data))-test$pitch)^2)"
   ]
  },
  {
   "cell_type": "markdown",
   "metadata": {},
   "source": [
    "## multinomial logistic regression"
   ]
  },
  {
   "cell_type": "code",
   "execution_count": 682,
   "metadata": {},
   "outputs": [
    {
     "name": "stdout",
     "output_type": "stream",
     "text": [
      "# weights:  44 (30 variable)\n",
      "initial  value 9253.514860 \n",
      "iter  10 value 7597.821106\n",
      "iter  20 value 7504.471704\n",
      "iter  30 value 7484.626699\n",
      "iter  40 value 7482.138295\n",
      "final  value 7482.133441 \n",
      "converged\n"
     ]
    }
   ],
   "source": [
    "pitcher.mn = multinom(pitch~prior_ball+prior_hit_into_play+prior_intent_ball+pk_coors+outs_0+outs_2\n",
    "                      +on_2b+on_1b+stand_L,data=train)"
   ]
  },
  {
   "cell_type": "markdown",
   "metadata": {},
   "source": [
    "Accuracy = 53% <br>\n",
    "FB accuracy = 93% <br>\n",
    "CU accuracy = 0% <br>\n",
    "CH accuracy = 8% <br>\n",
    "SL accuracy = 13%\n",
    "\n",
    "$$ \\text{test } \\varepsilon = 1.89$$"
   ]
  },
  {
   "cell_type": "code",
   "execution_count": 683,
   "metadata": {
    "scrolled": false
   },
   "outputs": [
    {
     "data": {
      "text/html": [
       "<table>\n",
       "<thead><tr><th></th><th scope=col>0</th><th scope=col>1</th><th scope=col>2</th><th scope=col>3</th></tr></thead>\n",
       "<tbody>\n",
       "\t<tr><th scope=row>0</th><td>1078</td><td>218 </td><td>330 </td><td>408 </td></tr>\n",
       "\t<tr><th scope=row>1</th><td>   0</td><td>  0 </td><td>  0 </td><td>  0 </td></tr>\n",
       "\t<tr><th scope=row>2</th><td>  28</td><td>  7 </td><td> 32 </td><td>  4 </td></tr>\n",
       "\t<tr><th scope=row>3</th><td>  47</td><td>  2 </td><td>  9 </td><td> 61 </td></tr>\n",
       "</tbody>\n",
       "</table>\n"
      ],
      "text/latex": [
       "\\begin{tabular}{r|llll}\n",
       "  & 0 & 1 & 2 & 3\\\\\n",
       "\\hline\n",
       "\t0 & 1078 & 218  & 330  & 408 \\\\\n",
       "\t1 &    0 &   0  &   0  &   0 \\\\\n",
       "\t2 &   28 &   7  &  32  &   4 \\\\\n",
       "\t3 &   47 &   2  &   9  &  61 \\\\\n",
       "\\end{tabular}\n"
      ],
      "text/markdown": [
       "\n",
       "| <!--/--> | 0 | 1 | 2 | 3 | \n",
       "|---|---|---|---|\n",
       "| 0 | 1078 | 218  | 330  | 408  | \n",
       "| 1 |    0 |   0  |   0  |   0  | \n",
       "| 2 |   28 |   7  |  32  |   4  | \n",
       "| 3 |   47 |   2  |   9  |  61  | \n",
       "\n",
       "\n"
      ],
      "text/plain": [
       "  0    1   2   3  \n",
       "0 1078 218 330 408\n",
       "1    0   0   0   0\n",
       "2   28   7  32   4\n",
       "3   47   2   9  61"
      ]
     },
     "metadata": {},
     "output_type": "display_data"
    }
   ],
   "source": [
    "pitch.probs = predict(pitcher.mn,test)\n",
    "xtable(table(pitch.probs,test$pitch))"
   ]
  },
  {
   "cell_type": "code",
   "execution_count": 690,
   "metadata": {
    "scrolled": false
   },
   "outputs": [
    {
     "data": {
      "text/html": [
       "0.0862533692722372"
      ],
      "text/latex": [
       "0.0862533692722372"
      ],
      "text/markdown": [
       "0.0862533692722372"
      ],
      "text/plain": [
       "[1] 0.08625337"
      ]
     },
     "metadata": {},
     "output_type": "display_data"
    }
   ],
   "source": [
    "(32)/(330+41)"
   ]
  },
  {
   "cell_type": "code",
   "execution_count": 689,
   "metadata": {
    "scrolled": false
   },
   "outputs": [
    {
     "data": {
      "text/html": [
       "1.89703237410072"
      ],
      "text/latex": [
       "1.89703237410072"
      ],
      "text/markdown": [
       "1.89703237410072"
      ],
      "text/plain": [
       "[1] 1.897032"
      ]
     },
     "metadata": {},
     "output_type": "display_data"
    }
   ],
   "source": [
    "mean((as.numeric(pitch.probs)-test$pitch)^2)"
   ]
  },
  {
   "cell_type": "code",
   "execution_count": 677,
   "metadata": {},
   "outputs": [
    {
     "data": {
      "text/html": [
       "0.126849894291755"
      ],
      "text/latex": [
       "0.126849894291755"
      ],
      "text/markdown": [
       "0.126849894291755"
      ],
      "text/plain": [
       "[1] 0.1268499"
      ]
     },
     "metadata": {},
     "output_type": "display_data"
    }
   ],
   "source": [
    "60/(63+410)"
   ]
  },
  {
   "cell_type": "markdown",
   "metadata": {},
   "source": [
    "# Conclusions"
   ]
  },
  {
   "cell_type": "markdown",
   "metadata": {},
   "source": [
    "After reducing the dimensionality of the dataset the KNN,LDA, and logistic regression models performed pretty well, maintaining an overall accuracy rate of 51%,53%, and 53%, respectively. Since Greinke throws a fastball at a rate of 50.7%, this is only slightly better than just guessing that the pitch will be a fastball every time. The logistic regression model actually came to this conclusion itself and started guessing fastball everytime and did ok overall. The logistic regression model before the lasso may be the best model because it predicted sliders at a 30% accuracy rate. The dimension reduction comes in handy becuase I can confirm my claim that batter stance greatly effects slider choice. Below, i rerun the multinomial logistic regression without th stand_L variable and now the only pitch the model wants to choose is fastball. To me, this is a clear indication that there is some signal hidden beneath the giant pile of noise that is baseball statistics."
   ]
  },
  {
   "cell_type": "code",
   "execution_count": 718,
   "metadata": {
    "scrolled": false
   },
   "outputs": [
    {
     "name": "stdout",
     "output_type": "stream",
     "text": [
      "# weights:  40 (27 variable)\n",
      "initial  value 9253.514860 \n",
      "iter  10 value 8114.275356\n",
      "iter  20 value 8018.411830\n",
      "iter  30 value 8003.243848\n",
      "iter  40 value 8003.174389\n",
      "final  value 8003.173814 \n",
      "converged\n"
     ]
    }
   ],
   "source": [
    "pitcher.mn = multinom(pitch~prior_ball+prior_hit_into_play+prior_intent_ball+pk_coors+outs_0+outs_2\n",
    "                      +on_2b+on_1b,data=train)\n",
    "pitch.probs = predict(pitcher.mn,test)"
   ]
  },
  {
   "cell_type": "code",
   "execution_count": 719,
   "metadata": {},
   "outputs": [
    {
     "data": {
      "text/html": [
       "<table>\n",
       "<thead><tr><th></th><th scope=col>0</th><th scope=col>1</th><th scope=col>2</th><th scope=col>3</th></tr></thead>\n",
       "<tbody>\n",
       "\t<tr><th scope=row>0</th><td>1153</td><td>227 </td><td>371 </td><td>470 </td></tr>\n",
       "\t<tr><th scope=row>1</th><td>   0</td><td>  0 </td><td>  0 </td><td>  0 </td></tr>\n",
       "\t<tr><th scope=row>2</th><td>   0</td><td>  0 </td><td>  0 </td><td>  0 </td></tr>\n",
       "\t<tr><th scope=row>3</th><td>   0</td><td>  0 </td><td>  0 </td><td>  3 </td></tr>\n",
       "</tbody>\n",
       "</table>\n"
      ],
      "text/latex": [
       "\\begin{tabular}{r|llll}\n",
       "  & 0 & 1 & 2 & 3\\\\\n",
       "\\hline\n",
       "\t0 & 1153 & 227  & 371  & 470 \\\\\n",
       "\t1 &    0 &   0  &   0  &   0 \\\\\n",
       "\t2 &    0 &   0  &   0  &   0 \\\\\n",
       "\t3 &    0 &   0  &   0  &   3 \\\\\n",
       "\\end{tabular}\n"
      ],
      "text/markdown": [
       "\n",
       "| <!--/--> | 0 | 1 | 2 | 3 | \n",
       "|---|---|---|---|\n",
       "| 0 | 1153 | 227  | 371  | 470  | \n",
       "| 1 |    0 |   0  |   0  |   0  | \n",
       "| 2 |    0 |   0  |   0  |   0  | \n",
       "| 3 |    0 |   0  |   0  |   3  | \n",
       "\n",
       "\n"
      ],
      "text/plain": [
       "  0    1   2   3  \n",
       "0 1153 227 371 470\n",
       "1    0   0   0   0\n",
       "2    0   0   0   0\n",
       "3    0   0   0   3"
      ]
     },
     "metadata": {},
     "output_type": "display_data"
    }
   ],
   "source": [
    "xtable(table(pitch.probs,test$pitch))"
   ]
  }
 ],
 "metadata": {
  "kernelspec": {
   "display_name": "R",
   "language": "R",
   "name": "ir"
  },
  "language_info": {
   "codemirror_mode": "r",
   "file_extension": ".r",
   "mimetype": "text/x-r-source",
   "name": "R",
   "pygments_lexer": "r",
   "version": "3.4.3"
  }
 },
 "nbformat": 4,
 "nbformat_minor": 2
}
